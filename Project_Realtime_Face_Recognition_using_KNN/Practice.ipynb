{
 "cells": [
  {
   "cell_type": "code",
   "execution_count": 1,
   "metadata": {
    "collapsed": true
   },
   "outputs": [],
   "source": [
    "import cv2\n",
    "import numpy as np"
   ]
  },
  {
   "cell_type": "code",
   "execution_count": 2,
   "metadata": {},
   "outputs": [
    {
     "ename": "ValueError",
     "evalue": "cannot reshape array of size 0 into shape (0,newaxis)",
     "traceback": [
      "\u001b[0;31m---------------------------------------------------------------------------\u001b[0m",
      "\u001b[0;31mValueError\u001b[0m                                Traceback (most recent call last)",
      "\u001b[0;32m<ipython-input-2-4270f5572495>\u001b[0m in \u001b[0;36m<module>\u001b[0;34m()\u001b[0m\n\u001b[1;32m     45\u001b[0m \u001b[0;34m\u001b[0m\u001b[0m\n\u001b[1;32m     46\u001b[0m     \u001b[0mface_data\u001b[0m \u001b[0;34m=\u001b[0m \u001b[0mnp\u001b[0m\u001b[0;34m.\u001b[0m\u001b[0masarray\u001b[0m\u001b[0;34m(\u001b[0m\u001b[0mface_data\u001b[0m\u001b[0;34m)\u001b[0m\u001b[0;34m\u001b[0m\u001b[0;34m\u001b[0m\u001b[0m\n\u001b[0;32m---> 47\u001b[0;31m     \u001b[0mface_data\u001b[0m \u001b[0;34m=\u001b[0m \u001b[0mface_data\u001b[0m\u001b[0;34m.\u001b[0m\u001b[0mreshape\u001b[0m\u001b[0;34m(\u001b[0m\u001b[0;34m(\u001b[0m\u001b[0mface_data\u001b[0m\u001b[0;34m.\u001b[0m\u001b[0mshape\u001b[0m\u001b[0;34m[\u001b[0m\u001b[0;36m0\u001b[0m\u001b[0;34m]\u001b[0m\u001b[0;34m,\u001b[0m\u001b[0;34m-\u001b[0m\u001b[0;36m1\u001b[0m\u001b[0;34m)\u001b[0m\u001b[0;34m)\u001b[0m\u001b[0;34m\u001b[0m\u001b[0;34m\u001b[0m\u001b[0m\n\u001b[0m\u001b[1;32m     48\u001b[0m     \u001b[0mprint\u001b[0m\u001b[0;34m(\u001b[0m\u001b[0mface_data\u001b[0m\u001b[0;34m.\u001b[0m\u001b[0mshape\u001b[0m\u001b[0;34m)\u001b[0m\u001b[0;34m\u001b[0m\u001b[0;34m\u001b[0m\u001b[0m\n\u001b[1;32m     49\u001b[0m \u001b[0;34m\u001b[0m\u001b[0m\n",
      "\u001b[0;31mValueError\u001b[0m: cannot reshape array of size 0 into shape (0,newaxis)"
     ],
     "output_type": "error"
    }
   ],
   "source": [
    "cap = cv2.VideoCapture(0)\n",
    "\n",
    "face_cascade = cv2.CascadeClassifier(\n",
    "    'Machine Learning/Project_Realtime_Face_Recognition_using_KNN/haarcascade_frontalface_alt2.xml')\n",
    "\n",
    "skip = 0\n",
    "face_data = []\n",
    "data_path = 'Machine Learning/Project_Realtime_Face_Recognition_using_KNN/'\n",
    "file_name = 'anish'\n",
    "while True:\n",
    "    return_value, frame = cap.read()\n",
    "    gray_frame = cv2.cvtColor(frame, cv2.COLOR_BGR2GRAY)\n",
    "\n",
    "    if return_value == False:\n",
    "        continue\n",
    "    \n",
    "    # faces = face_cascade.detectMultiScale({pass frame here}gray_frame, \n",
    "    # {ScaleFactor}1.3, \n",
    "    # {NoOfNeighbors}5)\n",
    "    faces = face_cascade.detectMultiScale(gray_frame, 1.3, 5)\n",
    "    # cv2.imshow('Gray Scale Frame',gray_frame)\n",
    "    \n",
    "    faces = sorted(faces, key=lambda f: f[2] * f[3], reverse=True)\n",
    "    for (x, y, w, h) in faces:\n",
    "        # cv2.rectangle({pass here detected frame}frame,\n",
    "        # {Here X Y coordinate of rect. at top left corner}(x,y),\n",
    "        # {Here X Y coordinate of rect. at bottom Right corner. W & H are width & Height}(x+w,y+h),\n",
    "        # {Rectangle boundary color}(255,255,0),\n",
    "        # {width of rectangle boundary}2)\n",
    "        cv2.rectangle(frame, (x, y), (x + w, y + h), (255, 255, 0), 2)\n",
    "        # Extract (Crop out the face image) : Region of Interest.\n",
    "        padding = 10\n",
    "        face_section = frame[y - padding:y + h + padding, x - padding:x + w + padding]\n",
    "        face_section = cv2.resize(face_section, (100, 100))\n",
    "    \n",
    "        skip += 1\n",
    "        if skip % 10 == 0:\n",
    "            face_data.append(face_section)\n",
    "            print(len(face_data))\n",
    "    cv2.imshow('Video Frame', frame)\n",
    "    #Wait for user to press q\n",
    "    key_pressed = cv2.waitKey(1) & 0XFF\n",
    "    if key_pressed == ord('q'):\n",
    "        break\n",
    "    \n",
    "    face_data = np.asarray(face_data)\n",
    "    face_data = face_data.reshape((face_data.shape[0],-1))\n",
    "    print(face_data.shape)\n",
    "    \n",
    "# Saving the data into file system\n",
    "np.save(data_path+file_name+'.npy',face_data)\n",
    "print('Data Successfully saved at '+data_path+file_name+'.npy')\n",
    "\n",
    "cap.release()\n",
    "cv2.destroyAllWindows()\n"
   ]
  },
  {
   "cell_type": "code",
   "execution_count": null,
   "metadata": {},
   "outputs": [],
   "source": []
  }
 ],
 "metadata": {
  "kernelspec": {
   "display_name": "Python 2",
   "language": "python",
   "name": "python2"
  },
  "language_info": {
   "codemirror_mode": {
    "name": "ipython",
    "version": 2
   },
   "file_extension": ".py",
   "mimetype": "text/x-python",
   "name": "python",
   "nbconvert_exporter": "python",
   "pygments_lexer": "ipython2",
   "version": "2.7.6"
  }
 },
 "nbformat": 4,
 "nbformat_minor": 0
}
