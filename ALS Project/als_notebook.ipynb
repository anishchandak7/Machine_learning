{
 "cells": [
  {
   "cell_type": "code",
   "execution_count": 1,
   "metadata": {},
   "outputs": [],
   "source": [
    "import tensorflow as tf\n"
   ]
  },
  {
   "cell_type": "code",
   "execution_count": 2,
   "metadata": {},
   "outputs": [],
   "source": [
    "als_labels = ['A', 'B', 'C', 'D', 'del', 'E', 'F', 'G', 'H', 'I', 'J', 'K', 'L', 'M', 'N', 'nothing', 'O', 'P', 'Q', 'R', 'S', 'space', 'T', 'U', 'V', 'W', 'X', 'Y', 'Z']"
   ]
  },
  {
   "cell_type": "code",
   "execution_count": 3,
   "metadata": {},
   "outputs": [
    {
     "name": "stdout",
     "output_type": "stream",
     "text": [
      "Found 87000 files belonging to 29 classes.\n"
     ]
    }
   ],
   "source": [
    "classes = 29\n",
    "batch = 32\n",
    "epochs = 15\n",
    "learning_rate = 0.001\n",
    "\n",
    "args = {\n",
    "    \"labels\" : \"inferred\",\n",
    "    \"label_mode\" : \"categorical\",\n",
    "    \"batch_size\" : batch,\n",
    "    \"image_size\" : (32, 32),\n",
    "    \"seed\" : 1,\n",
    "    \"class_names\" : als_labels\n",
    "}\n",
    "\n",
    "train_data = tf.keras.utils.image_dataset_from_directory('./Dataset/asl_alphabet_train/asl_alphabet_train',**args)"
   ]
  },
  {
   "cell_type": "code",
   "execution_count": 4,
   "metadata": {},
   "outputs": [],
   "source": [
    "# ONLY WHEN RAW TEST IS BEING USED.\n",
    "\n",
    "# from pathlib import Path\n",
    "# import shutil\n",
    "# import os\n",
    "\n",
    "# for img in Path('./Dataset/asl_alphabet_test/asl_alphabet_test').iterdir():\n",
    "#     print(img.name)\n",
    "#     als_char = img.name.split('_',1)[0]\n",
    "#     folder_path = './Dataset/asl_alphabet_test/asl_alphabet_test/' + als_char\n",
    "#     os.mkdir(folder_path)\n",
    "#     shutil.move(img.absolute(), folder_path)\n"
   ]
  },
  {
   "cell_type": "code",
   "execution_count": 5,
   "metadata": {},
   "outputs": [
    {
     "name": "stdout",
     "output_type": "stream",
     "text": [
      "Found 28 files belonging to 29 classes.\n"
     ]
    }
   ],
   "source": [
    "# als_test_labels = ['A', 'B', 'C', 'D', 'E', 'F', 'G', 'H', 'I', 'J', 'K', 'L', 'M', 'N', 'O', 'P', 'Q', 'R', 'S', 'T', 'U', 'V', 'W', 'X', 'Y', 'Z', 'nothing', 'space']\n",
    "test_args = {\n",
    "    \"labels\" : \"inferred\",\n",
    "    \"label_mode\" : \"categorical\",\n",
    "    \"image_size\" : (32, 32),\n",
    "    \"seed\" : 1,\n",
    "    \"class_names\" : als_labels\n",
    "}\n",
    "test_data = tf.keras.utils.image_dataset_from_directory('./Dataset/asl_alphabet_test/asl_alphabet_test',**test_args)"
   ]
  },
  {
   "cell_type": "code",
   "execution_count": 6,
   "metadata": {},
   "outputs": [
    {
     "data": {
      "text/plain": [
       "<BatchDataset element_spec=(TensorSpec(shape=(None, 32, 32, 3), dtype=tf.float32, name=None), TensorSpec(shape=(None, 29), dtype=tf.float32, name=None))>"
      ]
     },
     "execution_count": 6,
     "metadata": {},
     "output_type": "execute_result"
    }
   ],
   "source": [
    "train_data"
   ]
  },
  {
   "cell_type": "code",
   "execution_count": 7,
   "metadata": {},
   "outputs": [],
   "source": [
    "# Performance Optimization.\n",
    "train_data = train_data.cache().prefetch(buffer_size = tf.data.AUTOTUNE)\n",
    "test_data = test_data.cache().prefetch(buffer_size = tf.data.AUTOTUNE)"
   ]
  },
  {
   "cell_type": "markdown",
   "metadata": {},
   "source": [
    "## Model Build"
   ]
  },
  {
   "cell_type": "code",
   "execution_count": 8,
   "metadata": {},
   "outputs": [],
   "source": [
    "from tensorflow.keras import layers\n",
    "from tensorflow.keras.models import Sequential\n",
    "from tensorflow.keras.optimizers import Adam\n",
    "\n",
    "model = Sequential([\n",
    "    layers.Rescaling(1/255),\n",
    "\n",
    "    layers.Conv2D(64, (3,3), padding=\"same\", activation=\"relu\", input_shape = (32,32,3)),\n",
    "    layers.MaxPooling2D(pool_size = (2,2)),\n",
    "    layers.BatchNormalization(),\n",
    "    layers.Dropout(.2),\n",
    "\n",
    "    layers.Conv2D(128, (3,3), padding=\"same\", activation=\"relu\", input_shape = (32,32,3)),\n",
    "    layers.MaxPooling2D(pool_size = (2,2)),\n",
    "    layers.BatchNormalization(),\n",
    "    layers.Dropout(.2),\n",
    "\n",
    "    layers.Conv2D(256, (3,3), padding=\"same\", activation=\"relu\", input_shape = (32,32,3)),\n",
    "    layers.MaxPooling2D(pool_size = (2,2)),\n",
    "    layers.BatchNormalization(),\n",
    "\n",
    "    layers.Flatten(),\n",
    "    layers.Dropout(.2),\n",
    "    layers.Dense(1024,activation=\"relu\"),\n",
    "    layers.Dense(len(als_labels), activation=\"softmax\")\n",
    "\n",
    "])"
   ]
  },
  {
   "cell_type": "code",
   "execution_count": 9,
   "metadata": {},
   "outputs": [
    {
     "name": "stderr",
     "output_type": "stream",
     "text": [
      "d:\\ALS Project\\als-env\\lib\\site-packages\\keras\\optimizers\\optimizer_v2\\adam.py:114: UserWarning: The `lr` argument is deprecated, use `learning_rate` instead.\n",
      "  super().__init__(name, **kwargs)\n"
     ]
    }
   ],
   "source": [
    "adam = Adam(lr=learning_rate)\n",
    "model.compile(optimizer=adam, loss = tf.keras.losses.CategoricalCrossentropy(from_logits = True), metrics = ['accuracy'])"
   ]
  },
  {
   "cell_type": "code",
   "execution_count": 10,
   "metadata": {},
   "outputs": [
    {
     "name": "stdout",
     "output_type": "stream",
     "text": [
      "Model: \"sequential\"\n",
      "_________________________________________________________________\n",
      " Layer (type)                Output Shape              Param #   \n",
      "=================================================================\n",
      " rescaling (Rescaling)       (None, 32, 32, 3)         0         \n",
      "                                                                 \n",
      " conv2d (Conv2D)             (None, 32, 32, 64)        1792      \n",
      "                                                                 \n",
      " max_pooling2d (MaxPooling2D  (None, 16, 16, 64)       0         \n",
      " )                                                               \n",
      "                                                                 \n",
      " batch_normalization (BatchN  (None, 16, 16, 64)       256       \n",
      " ormalization)                                                   \n",
      "                                                                 \n",
      " dropout (Dropout)           (None, 16, 16, 64)        0         \n",
      "                                                                 \n",
      " conv2d_1 (Conv2D)           (None, 16, 16, 128)       73856     \n",
      "                                                                 \n",
      " max_pooling2d_1 (MaxPooling  (None, 8, 8, 128)        0         \n",
      " 2D)                                                             \n",
      "                                                                 \n",
      " batch_normalization_1 (Batc  (None, 8, 8, 128)        512       \n",
      " hNormalization)                                                 \n",
      "                                                                 \n",
      " dropout_1 (Dropout)         (None, 8, 8, 128)         0         \n",
      "                                                                 \n",
      " conv2d_2 (Conv2D)           (None, 8, 8, 256)         295168    \n",
      "                                                                 \n",
      " max_pooling2d_2 (MaxPooling  (None, 4, 4, 256)        0         \n",
      " 2D)                                                             \n",
      "                                                                 \n",
      " batch_normalization_2 (Batc  (None, 4, 4, 256)        1024      \n",
      " hNormalization)                                                 \n",
      "                                                                 \n",
      " flatten (Flatten)           (None, 4096)              0         \n",
      "                                                                 \n",
      " dropout_2 (Dropout)         (None, 4096)              0         \n",
      "                                                                 \n",
      " dense (Dense)               (None, 1024)              4195328   \n",
      "                                                                 \n",
      " dense_1 (Dense)             (None, 29)                29725     \n",
      "                                                                 \n",
      "=================================================================\n",
      "Total params: 4,597,661\n",
      "Trainable params: 4,596,765\n",
      "Non-trainable params: 896\n",
      "_________________________________________________________________\n"
     ]
    }
   ],
   "source": [
    "model.build((None, 32, 32, 3))\n",
    "model.summary()"
   ]
  },
  {
   "cell_type": "code",
   "execution_count": 11,
   "metadata": {},
   "outputs": [
    {
     "name": "stdout",
     "output_type": "stream",
     "text": [
      "Epoch 1/15\n"
     ]
    },
    {
     "name": "stderr",
     "output_type": "stream",
     "text": [
      "d:\\ALS Project\\als-env\\lib\\site-packages\\keras\\backend.py:5531: UserWarning: \"`categorical_crossentropy` received `from_logits=True`, but the `output` argument was produced by a Softmax activation and thus does not represent logits. Was this intended?\n",
      "  output, from_logits = _get_logits(\n"
     ]
    },
    {
     "name": "stdout",
     "output_type": "stream",
     "text": [
      "2719/2719 [==============================] - 663s 241ms/step - loss: 0.5044 - accuracy: 0.8458 - val_loss: 0.0397 - val_accuracy: 0.9643\n",
      "Epoch 2/15\n",
      "2719/2719 [==============================] - 24s 9ms/step - loss: 0.1151 - accuracy: 0.9653 - val_loss: 8.4873e-04 - val_accuracy: 1.0000\n",
      "Epoch 3/15\n",
      "2719/2719 [==============================] - 24s 9ms/step - loss: 0.0839 - accuracy: 0.9765 - val_loss: 1.2423e-04 - val_accuracy: 1.0000\n",
      "Epoch 4/15\n",
      "2719/2719 [==============================] - 24s 9ms/step - loss: 0.0598 - accuracy: 0.9847 - val_loss: 0.0332 - val_accuracy: 0.9643\n",
      "Epoch 5/15\n",
      "2719/2719 [==============================] - 24s 9ms/step - loss: 0.0548 - accuracy: 0.9859 - val_loss: 9.8457e-04 - val_accuracy: 1.0000\n",
      "Epoch 6/15\n",
      "2719/2719 [==============================] - 25s 9ms/step - loss: 0.0502 - accuracy: 0.9873 - val_loss: 0.3138 - val_accuracy: 0.9643\n",
      "Epoch 7/15\n",
      "2719/2719 [==============================] - 25s 9ms/step - loss: 0.0441 - accuracy: 0.9897 - val_loss: 0.1699 - val_accuracy: 0.9643\n",
      "Epoch 8/15\n",
      "2719/2719 [==============================] - 25s 9ms/step - loss: 0.0369 - accuracy: 0.9909 - val_loss: 2.0423e-05 - val_accuracy: 1.0000\n",
      "Epoch 9/15\n",
      "2719/2719 [==============================] - 25s 9ms/step - loss: 0.0397 - accuracy: 0.9920 - val_loss: 1.8017e-05 - val_accuracy: 1.0000\n",
      "Epoch 10/15\n",
      "2719/2719 [==============================] - 25s 9ms/step - loss: 0.0272 - accuracy: 0.9933 - val_loss: 0.0000e+00 - val_accuracy: 1.0000\n",
      "Epoch 11/15\n",
      "2719/2719 [==============================] - 25s 9ms/step - loss: 0.0265 - accuracy: 0.9940 - val_loss: 1.3924e-04 - val_accuracy: 1.0000\n",
      "Epoch 12/15\n",
      "2719/2719 [==============================] - 24s 9ms/step - loss: 0.0344 - accuracy: 0.9928 - val_loss: 0.0012 - val_accuracy: 1.0000\n",
      "Epoch 13/15\n",
      "2719/2719 [==============================] - 23s 8ms/step - loss: 0.0216 - accuracy: 0.9948 - val_loss: 3.2984e-05 - val_accuracy: 1.0000\n",
      "Epoch 14/15\n",
      "2719/2719 [==============================] - 22s 8ms/step - loss: 0.0228 - accuracy: 0.9949 - val_loss: 3.5337e-07 - val_accuracy: 1.0000\n",
      "Epoch 15/15\n",
      "2719/2719 [==============================] - 22s 8ms/step - loss: 0.0261 - accuracy: 0.9945 - val_loss: 8.5149e-08 - val_accuracy: 1.0000\n"
     ]
    }
   ],
   "source": [
    "history = model.fit(\n",
    "    train_data,\n",
    "    validation_data=test_data,\n",
    "    epochs=epochs,\n",
    "    shuffle = True,\n",
    "    verbose=1\n",
    ")"
   ]
  },
  {
   "cell_type": "code",
   "execution_count": 12,
   "metadata": {},
   "outputs": [
    {
     "data": {
      "text/plain": [
       "<AxesSubplot: >"
      ]
     },
     "execution_count": 12,
     "metadata": {},
     "output_type": "execute_result"
    },
    {
     "data": {
      "image/png": "[encoded data removed]",
      "text/plain": [
       "<Figure size 640x480 with 1 Axes>"
      ]
     },
     "metadata": {},
     "output_type": "display_data"
    }
   ],
   "source": [
    "import pandas as pd\n",
    "\n",
    "history_df = pd.DataFrame.from_dict(history.history)\n",
    "history_df[['accuracy', 'val_accuracy']].plot()"
   ]
  },
  {
   "cell_type": "code",
   "execution_count": 13,
   "metadata": {},
   "outputs": [
    {
     "data": {
      "text/plain": [
       "<AxesSubplot: >"
      ]
     },
     "execution_count": 13,
     "metadata": {},
     "output_type": "execute_result"
    },
    {
     "data": {
      "image/png": "[encoded data removed]",
      "text/plain": [
       "<Figure size 640x480 with 1 Axes>"
      ]
     },
     "metadata": {},
     "output_type": "display_data"
    }
   ],
   "source": [
    "history_df[['loss', 'val_loss']].plot()"
   ]
  },
  {
   "cell_type": "markdown",
   "metadata": {},
   "source": [
    "## Predictions"
   ]
  },
  {
   "cell_type": "code",
   "execution_count": 14,
   "metadata": {},
   "outputs": [
    {
     "name": "stdout",
     "output_type": "stream",
     "text": [
      "1/1 [==============================] - 1s 1s/step\n"
     ]
    },
    {
     "data": {
      "text/plain": [
       "array([14,  5,  1, 12,  2, 13, 21, 25, 18, 10, 16, 15, 17, 28,  6,  3, 27,\n",
       "       19,  8, 11, 24, 23,  7,  0, 22,  9, 20, 26], dtype=int64)"
      ]
     },
     "execution_count": 14,
     "metadata": {},
     "output_type": "execute_result"
    }
   ],
   "source": [
    "import numpy as np\n",
    "\n",
    "preds = model.predict(test_data)\n",
    "predicted_class = np.argmax(preds, axis = 1)\n",
    "predicted_class"
   ]
  },
  {
   "cell_type": "code",
   "execution_count": 15,
   "metadata": {},
   "outputs": [
    {
     "data": {
      "text/plain": [
       "array([14,  5,  1, 12,  2, 13, 21, 25, 18, 10, 16, 15, 17, 28,  6,  3, 27,\n",
       "       19,  8, 11, 24, 23,  7,  0, 22,  9, 20, 26], dtype=int64)"
      ]
     },
     "execution_count": 15,
     "metadata": {},
     "output_type": "execute_result"
    }
   ],
   "source": [
    "actual_labels = np.concatenate([y for _,y in test_data], axis = 0)\n",
    "actual_class = np.argmax(actual_labels, axis = 1)\n",
    "actual_class"
   ]
  },
  {
   "cell_type": "code",
   "execution_count": 17,
   "metadata": {},
   "outputs": [],
   "source": [
    "import itertools\n",
    "from PIL import Image\n",
    "\n",
    "actual_images = [x.numpy().astype(\"uint8\") for x,_ in test_data]\n",
    "actual_images = list(itertools.chain.from_iterable(actual_images))\n",
    "actual_images = [Image.fromarray(x) for x in actual_images]"
   ]
  },
  {
   "cell_type": "code",
   "execution_count": 18,
   "metadata": {},
   "outputs": [],
   "source": [
    "pred_df = pd.DataFrame(zip(predicted_class, actual_class, actual_images), columns = [\"prediction\", \"actual\", \"actual image\"])"
   ]
  },
  {
   "cell_type": "code",
   "execution_count": 19,
   "metadata": {},
   "outputs": [
    {
     "data": {
      "text/html": [
       "<div>\n",
       "<style scoped>\n",
       "    .dataframe tbody tr th:only-of-type {\n",
       "        vertical-align: middle;\n",
       "    }\n",
       "\n",
       "    .dataframe tbody tr th {\n",
       "        vertical-align: top;\n",
       "    }\n",
       "\n",
       "    .dataframe thead th {\n",
       "        text-align: right;\n",
       "    }\n",
       "</style>\n",
       "<table border=\"1\" class=\"dataframe\">\n",
       "  <thead>\n",
       "    <tr style=\"text-align: right;\">\n",
       "      <th></th>\n",
       "      <th>prediction</th>\n",
       "      <th>actual</th>\n",
       "      <th>actual image</th>\n",
       "    </tr>\n",
       "  </thead>\n",
       "  <tbody>\n",
       "    <tr>\n",
       "      <th>0</th>\n",
       "      <td>14</td>\n",
       "      <td>14</td>\n",
       "      <td>&lt;PIL.Image.Image image mode=RGB size=32x32 at ...</td>\n",
       "    </tr>\n",
       "    <tr>\n",
       "      <th>1</th>\n",
       "      <td>5</td>\n",
       "      <td>5</td>\n",
       "      <td>&lt;PIL.Image.Image image mode=RGB size=32x32 at ...</td>\n",
       "    </tr>\n",
       "    <tr>\n",
       "      <th>2</th>\n",
       "      <td>1</td>\n",
       "      <td>1</td>\n",
       "      <td>&lt;PIL.Image.Image image mode=RGB size=32x32 at ...</td>\n",
       "    </tr>\n",
       "    <tr>\n",
       "      <th>3</th>\n",
       "      <td>12</td>\n",
       "      <td>12</td>\n",
       "      <td>&lt;PIL.Image.Image image mode=RGB size=32x32 at ...</td>\n",
       "    </tr>\n",
       "    <tr>\n",
       "      <th>4</th>\n",
       "      <td>2</td>\n",
       "      <td>2</td>\n",
       "      <td>&lt;PIL.Image.Image image mode=RGB size=32x32 at ...</td>\n",
       "    </tr>\n",
       "  </tbody>\n",
       "</table>\n",
       "</div>"
      ],
      "text/plain": [
       "   prediction  actual                                       actual image\n",
       "0          14      14  <PIL.Image.Image image mode=RGB size=32x32 at ...\n",
       "1           5       5  <PIL.Image.Image image mode=RGB size=32x32 at ...\n",
       "2           1       1  <PIL.Image.Image image mode=RGB size=32x32 at ...\n",
       "3          12      12  <PIL.Image.Image image mode=RGB size=32x32 at ...\n",
       "4           2       2  <PIL.Image.Image image mode=RGB size=32x32 at ..."
      ]
     },
     "execution_count": 19,
     "metadata": {},
     "output_type": "execute_result"
    }
   ],
   "source": [
    "pred_df.head()"
   ]
  },
  {
   "cell_type": "code",
   "execution_count": 20,
   "metadata": {},
   "outputs": [],
   "source": [
    "pred_df['prediction'] = pred_df['prediction'].apply(lambda x: als_labels[x])\n",
    "pred_df['actual'] = pred_df['actual'].apply(lambda x: als_labels[x])"
   ]
  },
  {
   "cell_type": "code",
   "execution_count": 22,
   "metadata": {},
   "outputs": [
    {
     "data": {
      "text/html": [
       "<style type=\"text/css\">\n",
       "</style>\n",
       "<table id=\"T_8c01f\">\n",
       "  <thead>\n",
       "    <tr>\n",
       "      <th class=\"blank level0\" >&nbsp;</th>\n",
       "      <th id=\"T_8c01f_level0_col0\" class=\"col_heading level0 col0\" >prediction</th>\n",
       "      <th id=\"T_8c01f_level0_col1\" class=\"col_heading level0 col1\" >actual</th>\n",
       "      <th id=\"T_8c01f_level0_col2\" class=\"col_heading level0 col2\" >actual image</th>\n",
       "    </tr>\n",
       "  </thead>\n",
       "  <tbody>\n",
       "    <tr>\n",
       "      <th id=\"T_8c01f_level0_row0\" class=\"row_heading level0 row0\" >0</th>\n",
       "      <td id=\"T_8c01f_row0_col0\" class=\"data row0 col0\" >N</td>\n",
       "      <td id=\"T_8c01f_row0_col1\" class=\"data row0 col1\" >N</td>\n",
       "      <td id=\"T_8c01f_row0_col2\" class=\"data row0 col2\" ><PIL.Image.Image image mode=RGB size=32x32 at 0x1706FB22140></td>\n",
       "    </tr>\n",
       "    <tr>\n",
       "      <th id=\"T_8c01f_level0_row1\" class=\"row_heading level0 row1\" >1</th>\n",
       "      <td id=\"T_8c01f_row1_col0\" class=\"data row1 col0\" >E</td>\n",
       "      <td id=\"T_8c01f_row1_col1\" class=\"data row1 col1\" >E</td>\n",
       "      <td id=\"T_8c01f_row1_col2\" class=\"data row1 col2\" ><PIL.Image.Image image mode=RGB size=32x32 at 0x1706FBF6560></td>\n",
       "    </tr>\n",
       "    <tr>\n",
       "      <th id=\"T_8c01f_level0_row2\" class=\"row_heading level0 row2\" >2</th>\n",
       "      <td id=\"T_8c01f_row2_col0\" class=\"data row2 col0\" >B</td>\n",
       "      <td id=\"T_8c01f_row2_col1\" class=\"data row2 col1\" >B</td>\n",
       "      <td id=\"T_8c01f_row2_col2\" class=\"data row2 col2\" ><PIL.Image.Image image mode=RGB size=32x32 at 0x1706FBF46D0></td>\n",
       "    </tr>\n",
       "    <tr>\n",
       "      <th id=\"T_8c01f_level0_row3\" class=\"row_heading level0 row3\" >3</th>\n",
       "      <td id=\"T_8c01f_row3_col0\" class=\"data row3 col0\" >L</td>\n",
       "      <td id=\"T_8c01f_row3_col1\" class=\"data row3 col1\" >L</td>\n",
       "      <td id=\"T_8c01f_row3_col2\" class=\"data row3 col2\" ><PIL.Image.Image image mode=RGB size=32x32 at 0x1716E721BD0></td>\n",
       "    </tr>\n",
       "    <tr>\n",
       "      <th id=\"T_8c01f_level0_row4\" class=\"row_heading level0 row4\" >4</th>\n",
       "      <td id=\"T_8c01f_row4_col0\" class=\"data row4 col0\" >C</td>\n",
       "      <td id=\"T_8c01f_row4_col1\" class=\"data row4 col1\" >C</td>\n",
       "      <td id=\"T_8c01f_row4_col2\" class=\"data row4 col2\" ><PIL.Image.Image image mode=RGB size=32x32 at 0x171ADEA82E0></td>\n",
       "    </tr>\n",
       "    <tr>\n",
       "      <th id=\"T_8c01f_level0_row5\" class=\"row_heading level0 row5\" >5</th>\n",
       "      <td id=\"T_8c01f_row5_col0\" class=\"data row5 col0\" >M</td>\n",
       "      <td id=\"T_8c01f_row5_col1\" class=\"data row5 col1\" >M</td>\n",
       "      <td id=\"T_8c01f_row5_col2\" class=\"data row5 col2\" ><PIL.Image.Image image mode=RGB size=32x32 at 0x171ADEA8A90></td>\n",
       "    </tr>\n",
       "    <tr>\n",
       "      <th id=\"T_8c01f_level0_row6\" class=\"row_heading level0 row6\" >6</th>\n",
       "      <td id=\"T_8c01f_row6_col0\" class=\"data row6 col0\" >space</td>\n",
       "      <td id=\"T_8c01f_row6_col1\" class=\"data row6 col1\" >space</td>\n",
       "      <td id=\"T_8c01f_row6_col2\" class=\"data row6 col2\" ><PIL.Image.Image image mode=RGB size=32x32 at 0x171ADEA8AC0></td>\n",
       "    </tr>\n",
       "    <tr>\n",
       "      <th id=\"T_8c01f_level0_row7\" class=\"row_heading level0 row7\" >7</th>\n",
       "      <td id=\"T_8c01f_row7_col0\" class=\"data row7 col0\" >W</td>\n",
       "      <td id=\"T_8c01f_row7_col1\" class=\"data row7 col1\" >W</td>\n",
       "      <td id=\"T_8c01f_row7_col2\" class=\"data row7 col2\" ><PIL.Image.Image image mode=RGB size=32x32 at 0x171ADEA8820></td>\n",
       "    </tr>\n",
       "    <tr>\n",
       "      <th id=\"T_8c01f_level0_row8\" class=\"row_heading level0 row8\" >8</th>\n",
       "      <td id=\"T_8c01f_row8_col0\" class=\"data row8 col0\" >Q</td>\n",
       "      <td id=\"T_8c01f_row8_col1\" class=\"data row8 col1\" >Q</td>\n",
       "      <td id=\"T_8c01f_row8_col2\" class=\"data row8 col2\" ><PIL.Image.Image image mode=RGB size=32x32 at 0x171ADEABE50></td>\n",
       "    </tr>\n",
       "    <tr>\n",
       "      <th id=\"T_8c01f_level0_row9\" class=\"row_heading level0 row9\" >9</th>\n",
       "      <td id=\"T_8c01f_row9_col0\" class=\"data row9 col0\" >J</td>\n",
       "      <td id=\"T_8c01f_row9_col1\" class=\"data row9 col1\" >J</td>\n",
       "      <td id=\"T_8c01f_row9_col2\" class=\"data row9 col2\" ><PIL.Image.Image image mode=RGB size=32x32 at 0x171ADEA8A60></td>\n",
       "    </tr>\n",
       "  </tbody>\n",
       "</table>\n"
      ],
      "text/plain": [
       "<pandas.io.formats.style.Styler at 0x171acdf5900>"
      ]
     },
     "execution_count": 22,
     "metadata": {},
     "output_type": "execute_result"
    }
   ],
   "source": [
    "import base64\n",
    "import io\n",
    "\n",
    "def image_formatter(img):\n",
    "    with io.BytesIO() as buffer:\n",
    "        img.save(buffer, 'png')\n",
    "        img_str = base64.b64encode(buffer.getvalue()).decode()\n",
    "        return f'<img src=\"data:image/jpeg;base64,{img_str}\">'\n",
    "\n",
    "pred_df.head(10).style.format({'image': image_formatter})"
   ]
  },
  {
   "cell_type": "code",
   "execution_count": null,
   "metadata": {},
   "outputs": [],
   "source": []
  }
 ],
 "metadata": {
  "kernelspec": {
   "display_name": "Python 3.10.2 ('als-env': venv)",
   "language": "python",
   "name": "python3"
  },
  "language_info": {
   "codemirror_mode": {
    "name": "ipython",
    "version": 3
   },
   "file_extension": ".py",
   "mimetype": "text/x-python",
   "name": "python",
   "nbconvert_exporter": "python",
   "pygments_lexer": "ipython3",
   "version": "3.10.2"
  },
  "orig_nbformat": 4,
  "vscode": {
   "interpreter": {
    "hash": "9fc540d4b236a3d7f29ed861ff3ffa2c9b8024e14f6026a028199c4984a29d7a"
   }
  }
 },
 "nbformat": 4,
 "nbformat_minor": 2
}
