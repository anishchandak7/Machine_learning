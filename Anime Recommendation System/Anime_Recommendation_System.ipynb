{
 "cells": [
  {
   "cell_type": "markdown",
   "metadata": {
    "colab_type": "text",
    "id": "z2db3i8NP-G5"
   },
   "source": [
    "## Connecting with Kaggle and obtaining the necessary data.\n",
    "[https://www.kaggle.com/CooperUnion/anime-recommendations-database](https://)"
   ]
  },
  {
   "cell_type": "code",
   "execution_count": 1,
   "metadata": {
    "colab": {
     "base_uri": "https://localhost:8080/",
     "height": 228
    },
    "colab_type": "code",
    "id": "T1B0X8OR_xBZ",
    "outputId": "46c8b0cc-5bcd-4b2a-c73c-981cbdafae0e"
   },
   "outputs": [
    {
     "name": "stdout",
     "output_type": "stream",
     "text": [
      "Requirement already satisfied: kaggle in /usr/local/lib/python3.6/dist-packages (1.5.6)\n",
      "Requirement already satisfied: python-dateutil in /usr/local/lib/python3.6/dist-packages (from kaggle) (2.8.1)\n",
      "Requirement already satisfied: six>=1.10 in /usr/local/lib/python3.6/dist-packages (from kaggle) (1.15.0)\n",
      "Requirement already satisfied: requests in /usr/local/lib/python3.6/dist-packages (from kaggle) (2.23.0)\n",
      "Requirement already satisfied: tqdm in /usr/local/lib/python3.6/dist-packages (from kaggle) (4.41.1)\n",
      "Requirement already satisfied: python-slugify in /usr/local/lib/python3.6/dist-packages (from kaggle) (4.0.1)\n",
      "Requirement already satisfied: certifi in /usr/local/lib/python3.6/dist-packages (from kaggle) (2020.6.20)\n",
      "Requirement already satisfied: urllib3<1.25,>=1.21.1 in /usr/local/lib/python3.6/dist-packages (from kaggle) (1.24.3)\n",
      "Requirement already satisfied: chardet<4,>=3.0.2 in /usr/local/lib/python3.6/dist-packages (from requests->kaggle) (3.0.4)\n",
      "Requirement already satisfied: idna<3,>=2.5 in /usr/local/lib/python3.6/dist-packages (from requests->kaggle) (2.10)\n",
      "Requirement already satisfied: text-unidecode>=1.3 in /usr/local/lib/python3.6/dist-packages (from python-slugify->kaggle) (1.3)\n"
     ]
    }
   ],
   "source": [
    "!pip install kaggle"
   ]
  },
  {
   "cell_type": "code",
   "execution_count": 2,
   "metadata": {
    "colab": {
     "base_uri": "https://localhost:8080/",
     "height": 91,
     "resources": {
      "http://localhost:8080/nbextensions/google.colab/files.js": {
       "data": "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",
       "headers": [
        [
         "content-type",
         "application/javascript"
        ]
       ],
       "ok": true,
       "status": 200,
       "status_text": ""
      }
     }
    },
    "colab_type": "code",
    "id": "2IcqWo68ArJV",
    "outputId": "6e860f36-afa4-4502-cbeb-63317855da72"
   },
   "outputs": [
    {
     "data": {
      "text/html": [
       "\n",
       "     <input type=\"file\" id=\"files-61bc4413-3ca7-4457-a527-411e1c23ab43\" name=\"files[]\" multiple disabled\n",
       "        style=\"border:none\" />\n",
       "     <output id=\"result-61bc4413-3ca7-4457-a527-411e1c23ab43\">\n",
       "      Upload widget is only available when the cell has been executed in the\n",
       "      current browser session. Please rerun this cell to enable.\n",
       "      </output>\n",
       "      <script src=\"/nbextensions/google.colab/files.js\"></script> "
      ],
      "text/plain": [
       "<IPython.core.display.HTML object>"
      ]
     },
     "metadata": {
      "tags": []
     },
     "output_type": "display_data"
    },
    {
     "name": "stdout",
     "output_type": "stream",
     "text": [
      "Saving kaggle.json to kaggle.json\n"
     ]
    },
    {
     "data": {
      "text/plain": [
       "{'kaggle.json': b'{\"username\":\"chandakanish7\",\"key\":\"a962189dd5db9623b2973142224dc3f5\"}'}"
      ]
     },
     "execution_count": 2,
     "metadata": {
      "tags": []
     },
     "output_type": "execute_result"
    }
   ],
   "source": [
    "from google.colab import files\n",
    "files.upload()"
   ]
  },
  {
   "cell_type": "code",
   "execution_count": 3,
   "metadata": {
    "colab": {},
    "colab_type": "code",
    "id": "fnuvuOL4AzEf"
   },
   "outputs": [],
   "source": [
    "!mkdir -p ~/.kaggle\n",
    "!cp kaggle.json ~/.kaggle/\n",
    "!chmod 600 ~/.kaggle/kaggle.json"
   ]
  },
  {
   "cell_type": "code",
   "execution_count": 4,
   "metadata": {
    "colab": {
     "base_uri": "https://localhost:8080/",
     "height": 69
    },
    "colab_type": "code",
    "id": "mAmUk5k0A5Zd",
    "outputId": "a28ffa2a-05e6-46af-f7d3-e391bd34fada"
   },
   "outputs": [
    {
     "name": "stdout",
     "output_type": "stream",
     "text": [
      "Downloading anime-recommendations-database.zip to /content\n",
      " 68% 17.0M/25.0M [00:01<00:00, 10.2MB/s]\n",
      "100% 25.0M/25.0M [00:01<00:00, 15.7MB/s]\n"
     ]
    }
   ],
   "source": [
    "!kaggle datasets download -d CooperUnion/anime-recommendations-database"
   ]
  },
  {
   "cell_type": "code",
   "execution_count": 5,
   "metadata": {
    "colab": {},
    "colab_type": "code",
    "id": "_-yc-rwFCM0H"
   },
   "outputs": [],
   "source": [
    "!mkdir Dataset"
   ]
  },
  {
   "cell_type": "code",
   "execution_count": 6,
   "metadata": {
    "colab": {
     "base_uri": "https://localhost:8080/",
     "height": 69
    },
    "colab_type": "code",
    "id": "T1gX-htNA_Rx",
    "outputId": "9d35b8f1-775e-49f6-fd87-5cff86f9edb4"
   },
   "outputs": [
    {
     "name": "stdout",
     "output_type": "stream",
     "text": [
      "Archive:  /content/anime-recommendations-database.zip\n",
      "  inflating: anime.csv               \n",
      "  inflating: rating.csv              \n"
     ]
    }
   ],
   "source": [
    "!unzip /content/anime-recommendations-database.zip"
   ]
  },
  {
   "cell_type": "code",
   "execution_count": 7,
   "metadata": {
    "colab": {},
    "colab_type": "code",
    "id": "HbrwpncqBJ2q"
   },
   "outputs": [],
   "source": [
    "!mv /content/anime.csv /content/Dataset"
   ]
  },
  {
   "cell_type": "code",
   "execution_count": 8,
   "metadata": {
    "colab": {},
    "colab_type": "code",
    "id": "jigHZmJQBQsN"
   },
   "outputs": [],
   "source": [
    "!mv /content/rating.csv /content/Dataset"
   ]
  },
  {
   "cell_type": "code",
   "execution_count": 9,
   "metadata": {
    "colab": {
     "base_uri": "https://localhost:8080/",
     "height": 1000
    },
    "colab_type": "code",
    "id": "NqOYcuXERdjR",
    "outputId": "bab539ec-b532-42fa-ce1f-e95ca58b0912"
   },
   "outputs": [
    {
     "name": "stdout",
     "output_type": "stream",
     "text": [
      "Collecting modin[ray]\n",
      "\u001b[?25l  Downloading https://files.pythonhosted.org/packages/e9/7c/7ff264198ce393153f75ad6fce9fef9eb7624602776ea9854e4f067712d8/modin-0.8.0-py3-none-manylinux1_x86_64.whl (387kB)\n",
      "\r",
      "\u001b[K     |▉                               | 10kB 9.6MB/s eta 0:00:01\r",
      "\u001b[K     |█▊                              | 20kB 1.7MB/s eta 0:00:01\r",
      "\u001b[K     |██▌                             | 30kB 2.3MB/s eta 0:00:01\r",
      "\u001b[K     |███▍                            | 40kB 2.6MB/s eta 0:00:01\r",
      "\u001b[K     |████▎                           | 51kB 2.0MB/s eta 0:00:01\r",
      "\u001b[K     |█████                           | 61kB 2.3MB/s eta 0:00:01\r",
      "\u001b[K     |██████                          | 71kB 2.5MB/s eta 0:00:01\r",
      "\u001b[K     |██████▊                         | 81kB 2.7MB/s eta 0:00:01\r",
      "\u001b[K     |███████▋                        | 92kB 2.9MB/s eta 0:00:01\r",
      "\u001b[K     |████████▌                       | 102kB 2.8MB/s eta 0:00:01\r",
      "\u001b[K     |█████████▎                      | 112kB 2.8MB/s eta 0:00:01\r",
      "\u001b[K     |██████████▏                     | 122kB 2.8MB/s eta 0:00:01\r",
      "\u001b[K     |███████████                     | 133kB 2.8MB/s eta 0:00:01\r",
      "\u001b[K     |███████████▉                    | 143kB 2.8MB/s eta 0:00:01\r",
      "\u001b[K     |████████████▊                   | 153kB 2.8MB/s eta 0:00:01\r",
      "\u001b[K     |█████████████▌                  | 163kB 2.8MB/s eta 0:00:01\r",
      "\u001b[K     |██████████████▍                 | 174kB 2.8MB/s eta 0:00:01\r",
      "\u001b[K     |███████████████▎                | 184kB 2.8MB/s eta 0:00:01\r",
      "\u001b[K     |████████████████                | 194kB 2.8MB/s eta 0:00:01\r",
      "\u001b[K     |█████████████████               | 204kB 2.8MB/s eta 0:00:01\r",
      "\u001b[K     |█████████████████▉              | 215kB 2.8MB/s eta 0:00:01\r",
      "\u001b[K     |██████████████████▋             | 225kB 2.8MB/s eta 0:00:01\r",
      "\u001b[K     |███████████████████▌            | 235kB 2.8MB/s eta 0:00:01\r",
      "\u001b[K     |████████████████████▎           | 245kB 2.8MB/s eta 0:00:01\r",
      "\u001b[K     |█████████████████████▏          | 256kB 2.8MB/s eta 0:00:01\r",
      "\u001b[K     |██████████████████████          | 266kB 2.8MB/s eta 0:00:01\r",
      "\u001b[K     |██████████████████████▉         | 276kB 2.8MB/s eta 0:00:01\r",
      "\u001b[K     |███████████████████████▊        | 286kB 2.8MB/s eta 0:00:01\r",
      "\u001b[K     |████████████████████████▌       | 296kB 2.8MB/s eta 0:00:01\r",
      "\u001b[K     |█████████████████████████▍      | 307kB 2.8MB/s eta 0:00:01\r",
      "\u001b[K     |██████████████████████████▎     | 317kB 2.8MB/s eta 0:00:01\r",
      "\u001b[K     |███████████████████████████     | 327kB 2.8MB/s eta 0:00:01\r",
      "\u001b[K     |████████████████████████████    | 337kB 2.8MB/s eta 0:00:01\r",
      "\u001b[K     |████████████████████████████▉   | 348kB 2.8MB/s eta 0:00:01\r",
      "\u001b[K     |█████████████████████████████▋  | 358kB 2.8MB/s eta 0:00:01\r",
      "\u001b[K     |██████████████████████████████▌ | 368kB 2.8MB/s eta 0:00:01\r",
      "\u001b[K     |███████████████████████████████▎| 378kB 2.8MB/s eta 0:00:01\r",
      "\u001b[K     |████████████████████████████████| 389kB 2.8MB/s \n",
      "\u001b[?25hRequirement already satisfied: pandas==1.0.5 in /usr/local/lib/python3.6/dist-packages (from modin[ray]) (1.0.5)\n",
      "Requirement already satisfied: packaging in /usr/local/lib/python3.6/dist-packages (from modin[ray]) (20.4)\n",
      "Collecting ray==0.8.6; extra == \"ray\"\n",
      "\u001b[?25l  Downloading https://files.pythonhosted.org/packages/ea/0b/f253e92aee1225d9d0ef21dd15514352ce87f6dbc55de70707bc9d52477f/ray-0.8.6-cp36-cp36m-manylinux1_x86_64.whl (21.9MB)\n",
      "\u001b[K     |████████████████████████████████| 21.9MB 1.2MB/s \n",
      "\u001b[?25hRequirement already satisfied: pyarrow<0.17; extra == \"ray\" in /usr/local/lib/python3.6/dist-packages (from modin[ray]) (0.14.1)\n",
      "Requirement already satisfied: numpy>=1.13.3 in /usr/local/lib/python3.6/dist-packages (from pandas==1.0.5->modin[ray]) (1.18.5)\n",
      "Requirement already satisfied: python-dateutil>=2.6.1 in /usr/local/lib/python3.6/dist-packages (from pandas==1.0.5->modin[ray]) (2.8.1)\n",
      "Requirement already satisfied: pytz>=2017.2 in /usr/local/lib/python3.6/dist-packages (from pandas==1.0.5->modin[ray]) (2018.9)\n",
      "Requirement already satisfied: pyparsing>=2.0.2 in /usr/local/lib/python3.6/dist-packages (from packaging->modin[ray]) (2.4.7)\n",
      "Requirement already satisfied: six in /usr/local/lib/python3.6/dist-packages (from packaging->modin[ray]) (1.15.0)\n",
      "Requirement already satisfied: jsonschema in /usr/local/lib/python3.6/dist-packages (from ray==0.8.6; extra == \"ray\"->modin[ray]) (2.6.0)\n",
      "Requirement already satisfied: click>=7.0 in /usr/local/lib/python3.6/dist-packages (from ray==0.8.6; extra == \"ray\"->modin[ray]) (7.1.2)\n",
      "Requirement already satisfied: google in /usr/local/lib/python3.6/dist-packages (from ray==0.8.6; extra == \"ray\"->modin[ray]) (2.0.3)\n",
      "Requirement already satisfied: grpcio in /usr/local/lib/python3.6/dist-packages (from ray==0.8.6; extra == \"ray\"->modin[ray]) (1.31.0)\n",
      "Collecting colorama\n",
      "  Downloading https://files.pythonhosted.org/packages/c9/dc/45cdef1b4d119eb96316b3117e6d5708a08029992b2fee2c143c7a0a5cc5/colorama-0.4.3-py2.py3-none-any.whl\n",
      "Requirement already satisfied: msgpack<2.0.0,>=0.6.0 in /usr/local/lib/python3.6/dist-packages (from ray==0.8.6; extra == \"ray\"->modin[ray]) (1.0.0)\n",
      "Requirement already satisfied: pyyaml in /usr/local/lib/python3.6/dist-packages (from ray==0.8.6; extra == \"ray\"->modin[ray]) (3.13)\n",
      "Collecting py-spy>=0.2.0\n",
      "\u001b[?25l  Downloading https://files.pythonhosted.org/packages/8e/a7/ab45c9ee3c4654edda3efbd6b8e2fa4962226718a7e3e3be6e3926bf3617/py_spy-0.3.3-py2.py3-none-manylinux1_x86_64.whl (2.9MB)\n",
      "\u001b[K     |████████████████████████████████| 2.9MB 50.5MB/s \n",
      "\u001b[?25hCollecting redis<3.5.0,>=3.3.2\n",
      "\u001b[?25l  Downloading https://files.pythonhosted.org/packages/f0/05/1fc7feedc19c123e7a95cfc9e7892eb6cdd2e5df4e9e8af6384349c1cc3d/redis-3.4.1-py2.py3-none-any.whl (71kB)\n",
      "\u001b[K     |████████████████████████████████| 71kB 9.7MB/s \n",
      "\u001b[?25hCollecting aiohttp\n",
      "\u001b[?25l  Downloading https://files.pythonhosted.org/packages/7c/39/7eb5f98d24904e0f6d3edb505d4aa60e3ef83c0a58d6fe18244a51757247/aiohttp-3.6.2-cp36-cp36m-manylinux1_x86_64.whl (1.2MB)\n",
      "\u001b[K     |████████████████████████████████| 1.2MB 45.4MB/s \n",
      "\u001b[?25hRequirement already satisfied: filelock in /usr/local/lib/python3.6/dist-packages (from ray==0.8.6; extra == \"ray\"->modin[ray]) (3.0.12)\n",
      "Requirement already satisfied: protobuf>=3.8.0 in /usr/local/lib/python3.6/dist-packages (from ray==0.8.6; extra == \"ray\"->modin[ray]) (3.12.4)\n",
      "Requirement already satisfied: beautifulsoup4 in /usr/local/lib/python3.6/dist-packages (from google->ray==0.8.6; extra == \"ray\"->modin[ray]) (4.6.3)\n",
      "Collecting async-timeout<4.0,>=3.0\n",
      "  Downloading https://files.pythonhosted.org/packages/e1/1e/5a4441be21b0726c4464f3f23c8b19628372f606755a9d2e46c187e65ec4/async_timeout-3.0.1-py3-none-any.whl\n",
      "Collecting multidict<5.0,>=4.5\n",
      "\u001b[?25l  Downloading https://files.pythonhosted.org/packages/1a/95/f50352b5366e7d579e8b99631680a9e32e1b22adfa1629a8f23b1d22d5e2/multidict-4.7.6-cp36-cp36m-manylinux1_x86_64.whl (148kB)\n",
      "\u001b[K     |████████████████████████████████| 153kB 50.6MB/s \n",
      "\u001b[?25hRequirement already satisfied: typing-extensions>=3.6.5; python_version < \"3.7\" in /usr/local/lib/python3.6/dist-packages (from aiohttp->ray==0.8.6; extra == \"ray\"->modin[ray]) (3.7.4.3)\n",
      "Requirement already satisfied: attrs>=17.3.0 in /usr/local/lib/python3.6/dist-packages (from aiohttp->ray==0.8.6; extra == \"ray\"->modin[ray]) (20.1.0)\n",
      "Collecting idna-ssl>=1.0; python_version < \"3.7\"\n",
      "  Downloading https://files.pythonhosted.org/packages/46/03/07c4894aae38b0de52b52586b24bf189bb83e4ddabfe2e2c8f2419eec6f4/idna-ssl-1.1.0.tar.gz\n",
      "Requirement already satisfied: chardet<4.0,>=2.0 in /usr/local/lib/python3.6/dist-packages (from aiohttp->ray==0.8.6; extra == \"ray\"->modin[ray]) (3.0.4)\n",
      "Collecting yarl<2.0,>=1.0\n",
      "\u001b[?25l  Downloading https://files.pythonhosted.org/packages/a0/b4/2cbeaf2c3ea53865d9613b315fe24e78c66acedb1df7e4be4e064c87203b/yarl-1.5.1-cp36-cp36m-manylinux1_x86_64.whl (257kB)\n",
      "\u001b[K     |████████████████████████████████| 266kB 53.8MB/s \n",
      "\u001b[?25hRequirement already satisfied: setuptools in /usr/local/lib/python3.6/dist-packages (from protobuf>=3.8.0->ray==0.8.6; extra == \"ray\"->modin[ray]) (49.6.0)\n",
      "Requirement already satisfied: idna>=2.0 in /usr/local/lib/python3.6/dist-packages (from idna-ssl>=1.0; python_version < \"3.7\"->aiohttp->ray==0.8.6; extra == \"ray\"->modin[ray]) (2.10)\n",
      "Building wheels for collected packages: idna-ssl\n",
      "  Building wheel for idna-ssl (setup.py) ... \u001b[?25l\u001b[?25hdone\n",
      "  Created wheel for idna-ssl: filename=idna_ssl-1.1.0-cp36-none-any.whl size=3161 sha256=e74d07aaad75fb1039f3dc67fe3cfd2ddaf719a562083f9e1c6928de398ddf6b\n",
      "  Stored in directory: /root/.cache/pip/wheels/d3/00/b3/32d613e19e08a739751dd6bf998cfed277728f8b2127ad4eb7\n",
      "Successfully built idna-ssl\n",
      "Installing collected packages: colorama, py-spy, redis, async-timeout, multidict, idna-ssl, yarl, aiohttp, ray, modin\n",
      "Successfully installed aiohttp-3.6.2 async-timeout-3.0.1 colorama-0.4.3 idna-ssl-1.1.0 modin-0.8.0 multidict-4.7.6 py-spy-0.3.3 ray-0.8.6 redis-3.4.1 yarl-1.5.1\n"
     ]
    }
   ],
   "source": [
    "!pip install modin[ray]"
   ]
  },
  {
   "cell_type": "markdown",
   "metadata": {
    "colab_type": "text",
    "id": "G17uMdzQP13f"
   },
   "source": [
    "## Necessary Imports"
   ]
  },
  {
   "cell_type": "code",
   "execution_count": 10,
   "metadata": {
    "colab": {},
    "colab_type": "code",
    "id": "0VrakE1nBXPf"
   },
   "outputs": [],
   "source": [
    "# import commands here.\n",
    "import modin.pandas as pd\n",
    "import re\n",
    "from sklearn.metrics.pairwise import cosine_similarity\n",
    "from sklearn.feature_extraction.text import TfidfVectorizer,CountVectorizer\n",
    "import matplotlib.pyplot as plt\n",
    "from sklearn.decomposition import TruncatedSVD\n",
    "import chardet\n",
    "import numpy as np\n",
    "\n",
    "%matplotlib inline"
   ]
  },
  {
   "cell_type": "code",
   "execution_count": 12,
   "metadata": {
    "colab": {},
    "colab_type": "code",
    "id": "4qG8HWCYCArc"
   },
   "outputs": [],
   "source": [
    "# Reading Data.\n",
    "anime_data = pd.read_csv('/content/Dataset/anime.csv')\n",
    "rating_data = pd.read_csv('/content/Dataset/rating.csv')"
   ]
  },
  {
   "cell_type": "code",
   "execution_count": 13,
   "metadata": {
    "colab": {
     "base_uri": "https://localhost:8080/",
     "height": 939
    },
    "colab_type": "code",
    "id": "p3QKHPt_CYx-",
    "outputId": "714edf40-c03c-4aa4-f355-80833e2452ca"
   },
   "outputs": [
    {
     "name": "stdout",
     "output_type": "stream",
     "text": [
      "--------------------------------------------------ANIME DATA--------------------------------------------------\n",
      "\n",
      "\n",
      "--------------------------------------------------COLUMN INFO--------------------------------------------------\n",
      "Index(['anime_id', 'name', 'genre', 'type', 'episodes', 'rating', 'members'], dtype='object')\n",
      "\n",
      "\n",
      "--------------------------------------------------ANIME DATA (HEAD)---------------------------------------------\n",
      "   anime_id                              name  ... rating members\n",
      "0     32281                    Kimi no Na wa.  ...   9.37  200630\n",
      "1      5114  Fullmetal Alchemist: Brotherhood  ...   9.26  793665\n",
      "2     28977                          Gintama°  ...   9.25  114262\n",
      "3      9253                       Steins;Gate  ...   9.17  673572\n",
      "4      9969                     Gintama&#039;  ...   9.16  151266\n",
      "\n",
      "[5 rows x 7 columns]\n",
      "--------------------------------------------------ANIME DATA (TAIL)---------------------------------------------\n",
      "       anime_id  ... members\n",
      "12289      9316  ...     211\n",
      "12290      5543  ...     183\n",
      "12291      5621  ...     219\n",
      "12292      6133  ...     175\n",
      "12293     26081  ...     142\n",
      "\n",
      "[5 rows x 7 columns]\n",
      "--------------------------------------------------ANIME DATA (DESCRIBE)---------------------------------------------\n",
      "           anime_id        rating       members\n",
      "count  12294.000000  12064.000000  1.229400e+04\n",
      "mean   14058.221653      6.473902  1.807134e+04\n",
      "std    11455.294701      1.026746  5.482068e+04\n",
      "min        1.000000      1.670000  5.000000e+00\n",
      "25%     3484.250000      5.880000  2.250000e+02\n",
      "50%    10260.500000      6.570000  1.550000e+03\n",
      "75%    24794.500000      7.180000  9.437000e+03\n",
      "max    34527.000000     10.000000  1.013917e+06\n",
      "--------------------------------------------------ANIME DATA (INFO)---------------------------------------------\n",
      "<class 'modin.pandas.dataframe.DataFrame'>\n",
      "RangeIndex: 12294 entries, 0 to 12293\n",
      "Data columns (total 7 columns):\n",
      " #   Column    Non-Null Count  Dtype  \n",
      "---  --------  --------------  -----  \n",
      " 0   anime_id  12294 non-null  int64\n",
      " 1   name      12294 non-null  object\n",
      " 2   genre     12232 non-null  object\n",
      " 3   type      12269 non-null  object\n",
      " 4   episodes  12294 non-null  object\n",
      " 5   rating    12064 non-null  float64\n",
      " 6   members   12294 non-null  int64\n",
      "dtypes: object(4), int64(2), float64(1)\n",
      "memory usage: 672.5 KB\n",
      "None\n"
     ]
    },
    {
     "name": "stderr",
     "output_type": "stream",
     "text": [
      "UserWarning: Distributing <class 'int'> object. This may take some time.\n"
     ]
    }
   ],
   "source": [
    "# Checking anime data.\n",
    "print(('-'*50)+'ANIME DATA'+('-'*50))\n",
    "print('\\n')\n",
    "print(('-'*50)+'COLUMN INFO'+('-'*50))\n",
    "print(anime_data.columns)\n",
    "print('\\n')\n",
    "print(('-'*50)+'ANIME DATA (HEAD)'+('-'*45))\n",
    "print(anime_data.head())\n",
    "print(('-'*50)+'ANIME DATA (TAIL)'+('-'*45))\n",
    "print(anime_data.tail())\n",
    "print(('-'*50)+'ANIME DATA (DESCRIBE)'+('-'*45))\n",
    "print(anime_data.describe())\n",
    "print(('-'*50)+'ANIME DATA (INFO)'+('-'*45))\n",
    "print(anime_data.info())"
   ]
  },
  {
   "cell_type": "code",
   "execution_count": 14,
   "metadata": {
    "colab": {
     "base_uri": "https://localhost:8080/",
     "height": 800
    },
    "colab_type": "code",
    "id": "cEHckz-_CbMo",
    "outputId": "1a940eb1-4635-4850-b079-9ab99972d6a8"
   },
   "outputs": [
    {
     "name": "stdout",
     "output_type": "stream",
     "text": [
      "--------------------------------------------------RATING DATA--------------------------------------------------\n",
      "\n",
      "\n",
      "--------------------------------------------------COLUMN INFO--------------------------------------------------\n",
      "Index(['user_id', 'anime_id', 'rating'], dtype='object')\n",
      "\n",
      "\n",
      "--------------------------------------------------RATING DATA (HEAD)---------------------------------------------\n",
      "   user_id  anime_id  rating\n",
      "0        1        20      -1\n",
      "1        1        24      -1\n",
      "2        1        79      -1\n",
      "3        1       226      -1\n",
      "4        1       241      -1\n",
      "--------------------------------------------------RATING DATA (TAIL)---------------------------------------------\n",
      "         user_id  anime_id  rating\n",
      "7813732    73515     16512       7\n",
      "7813733    73515     17187       9\n",
      "7813734    73515     22145      10\n",
      "7813735    73516       790       9\n",
      "7813736    73516      8074       9\n",
      "--------------------------------------------------RATING DATA (DESCRIBE)---------------------------------------------\n",
      "            user_id      anime_id        rating\n",
      "count  7.813737e+06  7.813737e+06  7.813737e+06\n",
      "mean   3.672796e+04  8.909072e+03  6.144030e+00\n",
      "std    2.099795e+04  8.883950e+03  3.727800e+00\n",
      "min    1.000000e+00  1.000000e+00 -1.000000e+00\n",
      "25%    1.897400e+04  1.240000e+03  6.000000e+00\n",
      "50%    3.679100e+04  6.213000e+03  7.000000e+00\n",
      "75%    5.475700e+04  1.409300e+04  9.000000e+00\n",
      "max    7.351600e+04  3.451900e+04  1.000000e+01\n",
      "--------------------------------------------------RATING DATA (INFO)---------------------------------------------\n",
      "<class 'modin.pandas.dataframe.DataFrame'>\n",
      "RangeIndex: 7813737 entries, 0 to 7813736\n",
      "Data columns (total 3 columns):\n",
      " #   Column    Non-Null Count    Dtype\n",
      "---  --------  ----------------  -----\n",
      " 0   user_id   7813737 non-null  int64\n",
      " 1   anime_id  7813737 non-null  int64\n",
      " 2   rating    7813737 non-null  int64\n",
      "dtypes: int64(3)\n",
      "memory usage: 178.8 MB\n",
      "None\n"
     ]
    },
    {
     "name": "stderr",
     "output_type": "stream",
     "text": [
      "UserWarning: Distributing <class 'int'> object. This may take some time.\n"
     ]
    }
   ],
   "source": [
    "# Checking rating data.\n",
    "print(('-'*50)+'RATING DATA'+('-'*50))\n",
    "print('\\n')\n",
    "print(('-'*50)+'COLUMN INFO'+('-'*50))\n",
    "print(rating_data.columns)\n",
    "print('\\n')\n",
    "print(('-'*50)+'RATING DATA (HEAD)'+('-'*45))\n",
    "print(rating_data.head())\n",
    "print(('-'*50)+'RATING DATA (TAIL)'+('-'*45))\n",
    "print(rating_data.tail())\n",
    "print(('-'*50)+'RATING DATA (DESCRIBE)'+('-'*45))\n",
    "print(rating_data.describe())\n",
    "print(('-'*50)+'RATING DATA (INFO)'+('-'*45))\n",
    "print(rating_data.info())"
   ]
  },
  {
   "cell_type": "markdown",
   "metadata": {
    "colab_type": "text",
    "id": "xa9V8jufCgiX"
   },
   "source": [
    "## Data cleaning"
   ]
  },
  {
   "cell_type": "code",
   "execution_count": 18,
   "metadata": {
    "colab": {},
    "colab_type": "code",
    "id": "k_lMFXhKCilb"
   },
   "outputs": [],
   "source": [
    "def clean_anime_name(row):\n",
    "    try:\n",
    "        return re.sub(\"[^a-zA-Z0-9 ]\",\"\",row['name']).lower()\n",
    "    except:\n",
    "        print(\"Error:\",row['name'])\n",
    "\n",
    "def clean_anime_genre(row):\n",
    "    try:\n",
    "        return re.sub(',','',row['genre']).lower()\n",
    "    except:\n",
    "        print(\"Error:\",row['genre'])\n",
    "\n",
    "def clean_type(row):\n",
    "    return row['type'].lower()\n",
    "\n",
    "def clean_episodes(row):\n",
    "    try:\n",
    "        return re.sub('Unknown','',row['episodes'])\n",
    "    except:\n",
    "        print(\"Error:\",row['episodes'])"
   ]
  },
  {
   "cell_type": "code",
   "execution_count": 19,
   "metadata": {
    "colab": {
     "base_uri": "https://localhost:8080/",
     "height": 55
    },
    "colab_type": "code",
    "id": "UnQm0l2xCkgv",
    "outputId": "d76127ae-e2c8-44d9-e6e6-5d4dbb036afe"
   },
   "outputs": [
    {
     "name": "stderr",
     "output_type": "stream",
     "text": [
      "UserWarning: User-defined function verification is still under development in Modin. The function provided is not verified.\n"
     ]
    }
   ],
   "source": [
    "anime_data['cleaned_name'] = anime_data.apply(clean_anime_name,axis = 1)"
   ]
  },
  {
   "cell_type": "code",
   "execution_count": 20,
   "metadata": {
    "colab": {
     "base_uri": "https://localhost:8080/",
     "height": 55
    },
    "colab_type": "code",
    "id": "hHDsohk-CmjJ",
    "outputId": "3a72b135-48cc-4159-98f5-9bf400958501"
   },
   "outputs": [
    {
     "name": "stderr",
     "output_type": "stream",
     "text": [
      "UserWarning: User-defined function verification is still under development in Modin. The function provided is not verified.\n"
     ]
    }
   ],
   "source": [
    "anime_data['genre'] = anime_data['genre'].fillna('')\n",
    "anime_data['cleaned_genre'] = anime_data.apply(clean_anime_genre,axis = 1)"
   ]
  },
  {
   "cell_type": "code",
   "execution_count": 21,
   "metadata": {
    "colab": {
     "base_uri": "https://localhost:8080/",
     "height": 55
    },
    "colab_type": "code",
    "id": "AQKkQ9yXC79x",
    "outputId": "898c2e66-e15f-40d1-8b70-1f09305f5805"
   },
   "outputs": [
    {
     "name": "stderr",
     "output_type": "stream",
     "text": [
      "UserWarning: User-defined function verification is still under development in Modin. The function provided is not verified.\n"
     ]
    }
   ],
   "source": [
    "anime_data['type'] = anime_data['type'].fillna('')\n",
    "anime_data['cleaned_type'] = anime_data.apply(clean_type,axis = 1)"
   ]
  },
  {
   "cell_type": "code",
   "execution_count": 22,
   "metadata": {
    "colab": {
     "base_uri": "https://localhost:8080/",
     "height": 55
    },
    "colab_type": "code",
    "id": "HA26fB0aC-gu",
    "outputId": "6a5d1c48-11ff-4a62-c2c8-adf3a9a08dcc"
   },
   "outputs": [
    {
     "name": "stderr",
     "output_type": "stream",
     "text": [
      "UserWarning: User-defined function verification is still under development in Modin. The function provided is not verified.\n"
     ]
    }
   ],
   "source": [
    "anime_data['cleaned_episodes'] = anime_data.apply(clean_episodes,axis = 1)"
   ]
  },
  {
   "cell_type": "code",
   "execution_count": 23,
   "metadata": {
    "colab": {
     "base_uri": "https://localhost:8080/",
     "height": 69
    },
    "colab_type": "code",
    "id": "JxbYN8HmDBYF",
    "outputId": "5cd7c9b3-fea2-490a-ce91-e04dab32f879"
   },
   "outputs": [
    {
     "data": {
      "text/plain": [
       "Index(['anime_id', 'name', 'genre', 'type', 'episodes', 'rating', 'members',\n",
       "       'cleaned_name', 'cleaned_genre', 'cleaned_type', 'cleaned_episodes'],\n",
       "      dtype='object')"
      ]
     },
     "execution_count": 23,
     "metadata": {
      "tags": []
     },
     "output_type": "execute_result"
    }
   ],
   "source": [
    "anime_data.columns"
   ]
  },
  {
   "cell_type": "code",
   "execution_count": 24,
   "metadata": {
    "colab": {},
    "colab_type": "code",
    "id": "iP4kSh2fDFCO"
   },
   "outputs": [],
   "source": [
    "selected_features = ['cleaned_name', 'cleaned_genre','cleaned_type', 'cleaned_episodes']"
   ]
  },
  {
   "cell_type": "markdown",
   "metadata": {
    "colab_type": "text",
    "id": "ywf7dJBFDKK1"
   },
   "source": [
    "## Helper Functions."
   ]
  },
  {
   "cell_type": "code",
   "execution_count": 25,
   "metadata": {
    "colab": {},
    "colab_type": "code",
    "id": "zuQqfCYjDG4s"
   },
   "outputs": [],
   "source": [
    "def get_anime_id_from_name(name):\n",
    "    return anime_data[anime_data.cleaned_name == name]['anime_id'].values[0]"
   ]
  },
  {
   "cell_type": "code",
   "execution_count": 26,
   "metadata": {
    "colab": {},
    "colab_type": "code",
    "id": "pqeYql5mDMPN"
   },
   "outputs": [],
   "source": [
    "def get_name_from_anime_id(anime_id):\n",
    "    try:\n",
    "        return anime_data[anime_data.anime_id == anime_id]['cleaned_name'].values[0]\n",
    "    except:\n",
    "        pass"
   ]
  },
  {
   "cell_type": "code",
   "execution_count": 27,
   "metadata": {
    "colab": {},
    "colab_type": "code",
    "id": "dZV9eeIBDNh7"
   },
   "outputs": [],
   "source": [
    "def combine_features(row):\n",
    "    return row['cleaned_name']+\" \"+row['cleaned_genre']+\" \"+row['cleaned_type']+\" \"+row['cleaned_episodes']"
   ]
  },
  {
   "cell_type": "code",
   "execution_count": 28,
   "metadata": {
    "colab": {
     "base_uri": "https://localhost:8080/",
     "height": 55
    },
    "colab_type": "code",
    "id": "k89C_qNMDPTf",
    "outputId": "074eed44-12ff-49b2-9e1c-696e3a94c588"
   },
   "outputs": [
    {
     "name": "stderr",
     "output_type": "stream",
     "text": [
      "UserWarning: User-defined function verification is still under development in Modin. The function provided is not verified.\n"
     ]
    }
   ],
   "source": [
    "anime_data['combined_features'] = anime_data.apply(combine_features,axis = 1)"
   ]
  },
  {
   "cell_type": "code",
   "execution_count": 29,
   "metadata": {
    "colab": {
     "base_uri": "https://localhost:8080/",
     "height": 35
    },
    "colab_type": "code",
    "id": "EPXM9XyPDQuZ",
    "outputId": "4682fbd5-e690-4b57-f059-91057951005a"
   },
   "outputs": [
    {
     "data": {
      "text/plain": [
       "11200"
      ]
     },
     "execution_count": 29,
     "metadata": {
      "tags": []
     },
     "output_type": "execute_result"
    }
   ],
   "source": [
    "len(rating_data.anime_id.unique())"
   ]
  },
  {
   "cell_type": "code",
   "execution_count": 30,
   "metadata": {
    "colab": {
     "base_uri": "https://localhost:8080/",
     "height": 35
    },
    "colab_type": "code",
    "id": "TPVo2Mw8DctN",
    "outputId": "75a6292d-cdd3-4c24-d89f-bed85ad53b91"
   },
   "outputs": [
    {
     "data": {
      "text/plain": [
       "12294"
      ]
     },
     "execution_count": 30,
     "metadata": {
      "tags": []
     },
     "output_type": "execute_result"
    }
   ],
   "source": [
    "len(anime_data.anime_id.unique())"
   ]
  },
  {
   "cell_type": "markdown",
   "metadata": {
    "colab_type": "text",
    "id": "dBVEtTHYKTQY"
   },
   "source": [
    "## Data Cleaning (Continue)"
   ]
  },
  {
   "cell_type": "code",
   "execution_count": 31,
   "metadata": {
    "colab": {},
    "colab_type": "code",
    "id": "QGIxe_z9XImp"
   },
   "outputs": [],
   "source": [
    "# checking how many user\n",
    "user_count_per_anime_df = rating_data.groupby('anime_id')['user_id'].nunique().reset_index(name='user_IdCount')"
   ]
  },
  {
   "cell_type": "code",
   "execution_count": 32,
   "metadata": {
    "colab": {
     "base_uri": "https://localhost:8080/",
     "height": 52
    },
    "colab_type": "code",
    "id": "jHCHyy0-XIe1",
    "outputId": "f2bddc69-c428-4a61-b2a5-582446b691fa"
   },
   "outputs": [
    {
     "name": "stderr",
     "output_type": "stream",
     "text": [
      "UserWarning: sort_values defaulting to pandas implementation.\n",
      "To request implementation, send an email to feature_requests@modin.org.\n"
     ]
    }
   ],
   "source": [
    "user_IdCount = user_count_per_anime_df.sort_values(by = ['user_IdCount'],ascending=False)"
   ]
  },
  {
   "cell_type": "code",
   "execution_count": 33,
   "metadata": {
    "colab": {
     "base_uri": "https://localhost:8080/",
     "height": 35
    },
    "colab_type": "code",
    "id": "y534GRu35oX1",
    "outputId": "42b75274-195c-4a2d-9f02-28a1e68f971a"
   },
   "outputs": [
    {
     "data": {
      "text/plain": [
       "(11200, 2)"
      ]
     },
     "execution_count": 33,
     "metadata": {
      "tags": []
     },
     "output_type": "execute_result"
    }
   ],
   "source": [
    "user_IdCount.shape"
   ]
  },
  {
   "cell_type": "code",
   "execution_count": 34,
   "metadata": {
    "colab": {
     "base_uri": "https://localhost:8080/",
     "height": 52
    },
    "colab_type": "code",
    "id": "DV7qVdDUW6eA",
    "outputId": "de8a9590-f68b-4bbd-9b73-1db2a8060b7f"
   },
   "outputs": [
    {
     "name": "stderr",
     "output_type": "stream",
     "text": [
      "UserWarning: `DataFrame.groupby_on_multiple_columns` defaulting to pandas implementation.\n",
      "UserWarning: Distributing <class 'pandas.core.frame.DataFrame'> object. This may take some time.\n"
     ]
    }
   ],
   "source": [
    "# Filtering users who have rated more than or equal to 90 movies.\n",
    "ratings_f = rating_data.groupby('user_id').filter(lambda x:len(x)>=90)\n",
    "# After filtering ,\n",
    "anime_list_rating = ratings_f.anime_id.unique().tolist()"
   ]
  },
  {
   "cell_type": "code",
   "execution_count": 35,
   "metadata": {
    "colab": {
     "base_uri": "https://localhost:8080/",
     "height": 35
    },
    "colab_type": "code",
    "id": "AIUQfCzH6ylN",
    "outputId": "5b668d5c-e4e6-4fba-cc7d-a468bd9cf012"
   },
   "outputs": [
    {
     "data": {
      "text/plain": [
       "91.07694810476656"
      ]
     },
     "execution_count": 35,
     "metadata": {
      "tags": []
     },
     "output_type": "execute_result"
    }
   ],
   "source": [
    "(len(ratings_f.anime_id.unique())/len(anime_data.anime_id.unique()))*100"
   ]
  },
  {
   "cell_type": "code",
   "execution_count": 36,
   "metadata": {
    "colab": {
     "base_uri": "https://localhost:8080/",
     "height": 35
    },
    "colab_type": "code",
    "id": "oP3PIRK16ysp",
    "outputId": "95ce2843-3329-4691-8cb8-f5ec5cfb7192"
   },
   "outputs": [
    {
     "data": {
      "text/plain": [
       "36.94756172209753"
      ]
     },
     "execution_count": 36,
     "metadata": {
      "tags": []
     },
     "output_type": "execute_result"
    }
   ],
   "source": [
    "(len(ratings_f.user_id.unique())/len(rating_data.user_id.unique()))*100"
   ]
  },
  {
   "cell_type": "code",
   "execution_count": 37,
   "metadata": {
    "colab": {
     "base_uri": "https://localhost:8080/",
     "height": 35
    },
    "colab_type": "code",
    "id": "oj5TyAf910sl",
    "outputId": "a5361a31-c66a-46a2-e230-ef5df917d0c8"
   },
   "outputs": [
    {
     "data": {
      "text/plain": [
       "11197"
      ]
     },
     "execution_count": 37,
     "metadata": {
      "tags": []
     },
     "output_type": "execute_result"
    }
   ],
   "source": [
    "len(anime_list_rating)"
   ]
  },
  {
   "cell_type": "code",
   "execution_count": 38,
   "metadata": {
    "colab": {},
    "colab_type": "code",
    "id": "5jGdiW6eDwN-"
   },
   "outputs": [],
   "source": [
    "# filter the anime dataframe\n",
    "anime_data = anime_data[anime_data['anime_id'].isin(anime_list_rating)]"
   ]
  },
  {
   "cell_type": "code",
   "execution_count": 39,
   "metadata": {
    "colab": {
     "base_uri": "https://localhost:8080/",
     "height": 35
    },
    "colab_type": "code",
    "id": "nOyViJJQ8JG8",
    "outputId": "3947c9a3-cc57-42fd-8bd2-b73f51f97e86"
   },
   "outputs": [
    {
     "data": {
      "text/plain": [
       "(11194, 12)"
      ]
     },
     "execution_count": 39,
     "metadata": {
      "tags": []
     },
     "output_type": "execute_result"
    }
   ],
   "source": [
    "anime_data.shape"
   ]
  },
  {
   "cell_type": "code",
   "execution_count": 40,
   "metadata": {
    "colab": {
     "base_uri": "https://localhost:8080/",
     "height": 35
    },
    "colab_type": "code",
    "id": "fsGWoqlj5Ih-",
    "outputId": "25856027-4458-43d2-97d2-12cdda3cccd2"
   },
   "outputs": [
    {
     "name": "stderr",
     "output_type": "stream",
     "text": [
      "UserWarning: `Series.tolist` defaulting to pandas implementation.\n"
     ]
    }
   ],
   "source": [
    "filtered_anime_id = set(anime_list_rating)-set(anime_data.anime_id.tolist())"
   ]
  },
  {
   "cell_type": "code",
   "execution_count": 41,
   "metadata": {
    "colab": {},
    "colab_type": "code",
    "id": "OqwnwBIn5Iqg"
   },
   "outputs": [],
   "source": [
    "filtered_anime_id = list(filtered_anime_id)"
   ]
  },
  {
   "cell_type": "code",
   "execution_count": 42,
   "metadata": {
    "colab": {},
    "colab_type": "code",
    "id": "2BymyOF96Hp6"
   },
   "outputs": [],
   "source": [
    "ratings_f.drop(ratings_f[ratings_f['anime_id'].isin(filtered_anime_id)].index,inplace=True)"
   ]
  },
  {
   "cell_type": "code",
   "execution_count": 43,
   "metadata": {
    "colab": {
     "base_uri": "https://localhost:8080/",
     "height": 35
    },
    "colab_type": "code",
    "id": "Jn2jvcXG5IoN",
    "outputId": "802d7ee3-6b62-46b9-a48e-13cdfc048c6b"
   },
   "outputs": [
    {
     "data": {
      "text/plain": [
       "(6332041, 3)"
      ]
     },
     "execution_count": 43,
     "metadata": {
      "tags": []
     },
     "output_type": "execute_result"
    }
   ],
   "source": [
    "ratings_f.shape"
   ]
  },
  {
   "cell_type": "code",
   "execution_count": 44,
   "metadata": {
    "colab": {
     "base_uri": "https://localhost:8080/",
     "height": 202
    },
    "colab_type": "code",
    "id": "7-fElrYuASr-",
    "outputId": "c03a5555-de17-4a7f-9807-9c1aae57bfbd"
   },
   "outputs": [
    {
     "data": {
      "text/html": [
       "<div>\n",
       "<style scoped>\n",
       "    .dataframe tbody tr th:only-of-type {\n",
       "        vertical-align: middle;\n",
       "    }\n",
       "\n",
       "    .dataframe tbody tr th {\n",
       "        vertical-align: top;\n",
       "    }\n",
       "\n",
       "    .dataframe thead th {\n",
       "        text-align: right;\n",
       "    }\n",
       "</style>\n",
       "<table border=\"1\" class=\"dataframe\">\n",
       "  <thead>\n",
       "    <tr style=\"text-align: right;\">\n",
       "      <th></th>\n",
       "      <th>user_id</th>\n",
       "      <th>anime_id</th>\n",
       "      <th>rating</th>\n",
       "    </tr>\n",
       "  </thead>\n",
       "  <tbody>\n",
       "    <tr>\n",
       "      <th>0</th>\n",
       "      <td>1</td>\n",
       "      <td>20</td>\n",
       "      <td>-1</td>\n",
       "    </tr>\n",
       "    <tr>\n",
       "      <th>1</th>\n",
       "      <td>1</td>\n",
       "      <td>24</td>\n",
       "      <td>-1</td>\n",
       "    </tr>\n",
       "    <tr>\n",
       "      <th>2</th>\n",
       "      <td>1</td>\n",
       "      <td>79</td>\n",
       "      <td>-1</td>\n",
       "    </tr>\n",
       "    <tr>\n",
       "      <th>3</th>\n",
       "      <td>1</td>\n",
       "      <td>226</td>\n",
       "      <td>-1</td>\n",
       "    </tr>\n",
       "    <tr>\n",
       "      <th>4</th>\n",
       "      <td>1</td>\n",
       "      <td>241</td>\n",
       "      <td>-1</td>\n",
       "    </tr>\n",
       "  </tbody>\n",
       "</table>\n",
       "</div>"
      ],
      "text/plain": [
       "   user_id  anime_id  rating\n",
       "0        1        20      -1\n",
       "1        1        24      -1\n",
       "2        1        79      -1\n",
       "3        1       226      -1\n",
       "4        1       241      -1"
      ]
     },
     "execution_count": 44,
     "metadata": {
      "tags": []
     },
     "output_type": "execute_result"
    }
   ],
   "source": [
    "ratings_f.head()"
   ]
  },
  {
   "cell_type": "code",
   "execution_count": 45,
   "metadata": {
    "colab": {
     "base_uri": "https://localhost:8080/",
     "height": 35
    },
    "colab_type": "code",
    "id": "leB3RokS8K7o",
    "outputId": "b8e9cd78-56d7-48d0-b551-72dd612a619b"
   },
   "outputs": [
    {
     "name": "stderr",
     "output_type": "stream",
     "text": [
      "UserWarning: <function DataFrame.merge at 0x7f2ebedc4400> defaulting to pandas implementation.\n"
     ]
    }
   ],
   "source": [
    "ratings_f1 = pd.merge(anime_data[['anime_id']],ratings_f,on='anime_id',how='right')"
   ]
  },
  {
   "cell_type": "code",
   "execution_count": 46,
   "metadata": {
    "colab": {
     "base_uri": "https://localhost:8080/",
     "height": 202
    },
    "colab_type": "code",
    "id": "eCARWeg2-lmv",
    "outputId": "e84ed3d5-be59-43b2-e69a-a0f9aa318bdc"
   },
   "outputs": [
    {
     "data": {
      "text/html": [
       "<div>\n",
       "<style scoped>\n",
       "    .dataframe tbody tr th:only-of-type {\n",
       "        vertical-align: middle;\n",
       "    }\n",
       "\n",
       "    .dataframe tbody tr th {\n",
       "        vertical-align: top;\n",
       "    }\n",
       "\n",
       "    .dataframe thead th {\n",
       "        text-align: right;\n",
       "    }\n",
       "</style>\n",
       "<table border=\"1\" class=\"dataframe\">\n",
       "  <thead>\n",
       "    <tr style=\"text-align: right;\">\n",
       "      <th></th>\n",
       "      <th>anime_id</th>\n",
       "      <th>user_id</th>\n",
       "      <th>rating</th>\n",
       "    </tr>\n",
       "  </thead>\n",
       "  <tbody>\n",
       "    <tr>\n",
       "      <th>0</th>\n",
       "      <td>32281</td>\n",
       "      <td>99</td>\n",
       "      <td>5</td>\n",
       "    </tr>\n",
       "    <tr>\n",
       "      <th>1</th>\n",
       "      <td>32281</td>\n",
       "      <td>152</td>\n",
       "      <td>10</td>\n",
       "    </tr>\n",
       "    <tr>\n",
       "      <th>2</th>\n",
       "      <td>32281</td>\n",
       "      <td>244</td>\n",
       "      <td>10</td>\n",
       "    </tr>\n",
       "    <tr>\n",
       "      <th>3</th>\n",
       "      <td>32281</td>\n",
       "      <td>271</td>\n",
       "      <td>10</td>\n",
       "    </tr>\n",
       "    <tr>\n",
       "      <th>4</th>\n",
       "      <td>32281</td>\n",
       "      <td>398</td>\n",
       "      <td>10</td>\n",
       "    </tr>\n",
       "  </tbody>\n",
       "</table>\n",
       "</div>"
      ],
      "text/plain": [
       "   anime_id  user_id  rating\n",
       "0     32281       99       5\n",
       "1     32281      152      10\n",
       "2     32281      244      10\n",
       "3     32281      271      10\n",
       "4     32281      398      10"
      ]
     },
     "execution_count": 46,
     "metadata": {
      "tags": []
     },
     "output_type": "execute_result"
    }
   ],
   "source": [
    "ratings_f1.head()"
   ]
  },
  {
   "cell_type": "code",
   "execution_count": 47,
   "metadata": {
    "colab": {
     "base_uri": "https://localhost:8080/",
     "height": 35
    },
    "colab_type": "code",
    "id": "90S6g74jsRrQ",
    "outputId": "4a76fbdf-0144-4bf2-a66f-08d9c899be6d"
   },
   "outputs": [
    {
     "data": {
      "text/plain": [
       "(6332041, 3)"
      ]
     },
     "execution_count": 47,
     "metadata": {
      "tags": []
     },
     "output_type": "execute_result"
    }
   ],
   "source": [
    "ratings_f1.shape"
   ]
  },
  {
   "cell_type": "code",
   "execution_count": 48,
   "metadata": {
    "colab": {
     "base_uri": "https://localhost:8080/",
     "height": 35
    },
    "colab_type": "code",
    "id": "yl_hk3VT91Ag",
    "outputId": "8bc49ae1-51c9-4d57-c039-f657f98d7f56"
   },
   "outputs": [
    {
     "name": "stderr",
     "output_type": "stream",
     "text": [
      "UserWarning: sort_values defaulting to pandas implementation.\n"
     ]
    }
   ],
   "source": [
    "# checking how many user\n",
    "user_count_per_anime_df_2 = ratings_f1.groupby('anime_id')['user_id'].nunique().reset_index(name='user_IdCount')\n",
    "user_IdCount_2 = user_count_per_anime_df_2.sort_values(by = ['user_IdCount'],ascending=False)"
   ]
  },
  {
   "cell_type": "code",
   "execution_count": 49,
   "metadata": {
    "colab": {
     "base_uri": "https://localhost:8080/",
     "height": 52
    },
    "colab_type": "code",
    "id": "iBxSKl3T-FAf",
    "outputId": "e2c9759e-a8d2-4f77-d68e-29030dd552d8"
   },
   "outputs": [
    {
     "name": "stdout",
     "output_type": "stream",
     "text": [
      "(11194, 2)\n",
      "(11194, 12)\n"
     ]
    }
   ],
   "source": [
    "print(user_IdCount_2.shape)\n",
    "print(anime_data.shape)"
   ]
  },
  {
   "cell_type": "code",
   "execution_count": 50,
   "metadata": {
    "colab": {},
    "colab_type": "code",
    "id": "qw_IN2ss9XxF"
   },
   "outputs": [],
   "source": [
    "anime_data_user_counts_df = pd.merge(user_IdCount,anime_data,on = 'anime_id',how='left')"
   ]
  },
  {
   "cell_type": "code",
   "execution_count": 51,
   "metadata": {
    "colab": {
     "base_uri": "https://localhost:8080/",
     "height": 569
    },
    "colab_type": "code",
    "id": "4sHT_5RW-3Cy",
    "outputId": "0ab575e2-2165-4553-c104-1ce2fa441ec0"
   },
   "outputs": [
    {
     "data": {
      "text/html": [
       "<div>\n",
       "<style scoped>\n",
       "    .dataframe tbody tr th:only-of-type {\n",
       "        vertical-align: middle;\n",
       "    }\n",
       "\n",
       "    .dataframe tbody tr th {\n",
       "        vertical-align: top;\n",
       "    }\n",
       "\n",
       "    .dataframe thead th {\n",
       "        text-align: right;\n",
       "    }\n",
       "</style>\n",
       "<table border=\"1\" class=\"dataframe\">\n",
       "  <thead>\n",
       "    <tr style=\"text-align: right;\">\n",
       "      <th></th>\n",
       "      <th>anime_id</th>\n",
       "      <th>user_IdCount</th>\n",
       "      <th>name</th>\n",
       "      <th>genre</th>\n",
       "      <th>type</th>\n",
       "      <th>episodes</th>\n",
       "      <th>rating</th>\n",
       "      <th>members</th>\n",
       "      <th>cleaned_name</th>\n",
       "      <th>cleaned_genre</th>\n",
       "      <th>cleaned_type</th>\n",
       "      <th>cleaned_episodes</th>\n",
       "      <th>combined_features</th>\n",
       "    </tr>\n",
       "  </thead>\n",
       "  <tbody>\n",
       "    <tr>\n",
       "      <th>0</th>\n",
       "      <td>1535</td>\n",
       "      <td>39340</td>\n",
       "      <td>Death Note</td>\n",
       "      <td>Mystery, Police, Psychological, Supernatural, ...</td>\n",
       "      <td>TV</td>\n",
       "      <td>37</td>\n",
       "      <td>8.71</td>\n",
       "      <td>1013917</td>\n",
       "      <td>death note</td>\n",
       "      <td>mystery police psychological supernatural thri...</td>\n",
       "      <td>tv</td>\n",
       "      <td>37</td>\n",
       "      <td>death note mystery police psychological supern...</td>\n",
       "    </tr>\n",
       "    <tr>\n",
       "      <th>1</th>\n",
       "      <td>11757</td>\n",
       "      <td>30582</td>\n",
       "      <td>Sword Art Online</td>\n",
       "      <td>Action, Adventure, Fantasy, Game, Romance</td>\n",
       "      <td>TV</td>\n",
       "      <td>25</td>\n",
       "      <td>7.83</td>\n",
       "      <td>893100</td>\n",
       "      <td>sword art online</td>\n",
       "      <td>action adventure fantasy game romance</td>\n",
       "      <td>tv</td>\n",
       "      <td>25</td>\n",
       "      <td>sword art online action adventure fantasy game...</td>\n",
       "    </tr>\n",
       "    <tr>\n",
       "      <th>2</th>\n",
       "      <td>16498</td>\n",
       "      <td>29583</td>\n",
       "      <td>Shingeki no Kyojin</td>\n",
       "      <td>Action, Drama, Fantasy, Shounen, Super Power</td>\n",
       "      <td>TV</td>\n",
       "      <td>25</td>\n",
       "      <td>8.54</td>\n",
       "      <td>896229</td>\n",
       "      <td>shingeki no kyojin</td>\n",
       "      <td>action drama fantasy shounen super power</td>\n",
       "      <td>tv</td>\n",
       "      <td>25</td>\n",
       "      <td>shingeki no kyojin action drama fantasy shoune...</td>\n",
       "    </tr>\n",
       "    <tr>\n",
       "      <th>3</th>\n",
       "      <td>1575</td>\n",
       "      <td>27717</td>\n",
       "      <td>Code Geass: Hangyaku no Lelouch</td>\n",
       "      <td>Action, Mecha, Military, School, Sci-Fi, Super...</td>\n",
       "      <td>TV</td>\n",
       "      <td>25</td>\n",
       "      <td>8.83</td>\n",
       "      <td>715151</td>\n",
       "      <td>code geass hangyaku no lelouch</td>\n",
       "      <td>action mecha military school sci-fi super power</td>\n",
       "      <td>tv</td>\n",
       "      <td>25</td>\n",
       "      <td>code geass hangyaku no lelouch action mecha mi...</td>\n",
       "    </tr>\n",
       "    <tr>\n",
       "      <th>4</th>\n",
       "      <td>226</td>\n",
       "      <td>27506</td>\n",
       "      <td>Elfen Lied</td>\n",
       "      <td>Action, Drama, Horror, Psychological, Romance,...</td>\n",
       "      <td>TV</td>\n",
       "      <td>13</td>\n",
       "      <td>7.85</td>\n",
       "      <td>623511</td>\n",
       "      <td>elfen lied</td>\n",
       "      <td>action drama horror psychological romance sein...</td>\n",
       "      <td>tv</td>\n",
       "      <td>13</td>\n",
       "      <td>elfen lied action drama horror psychological r...</td>\n",
       "    </tr>\n",
       "  </tbody>\n",
       "</table>\n",
       "</div>"
      ],
      "text/plain": [
       "   anime_id  ...                                  combined_features\n",
       "0      1535  ...  death note mystery police psychological supern...\n",
       "1     11757  ...  sword art online action adventure fantasy game...\n",
       "2     16498  ...  shingeki no kyojin action drama fantasy shoune...\n",
       "3      1575  ...  code geass hangyaku no lelouch action mecha mi...\n",
       "4       226  ...  elfen lied action drama horror psychological r...\n",
       "\n",
       "[5 rows x 13 columns]"
      ]
     },
     "execution_count": 51,
     "metadata": {
      "tags": []
     },
     "output_type": "execute_result"
    }
   ],
   "source": [
    "anime_data_user_counts_df.head()"
   ]
  },
  {
   "cell_type": "code",
   "execution_count": 52,
   "metadata": {
    "colab": {},
    "colab_type": "code",
    "id": "NQN4vQfX_OGB"
   },
   "outputs": [],
   "source": [
    "!mkdir Database_Files"
   ]
  },
  {
   "cell_type": "code",
   "execution_count": 53,
   "metadata": {
    "colab": {
     "base_uri": "https://localhost:8080/",
     "height": 52
    },
    "colab_type": "code",
    "id": "c0euL6ut_IQp",
    "outputId": "97e4fd95-4128-4af5-f911-5452903ebf2b"
   },
   "outputs": [
    {
     "name": "stderr",
     "output_type": "stream",
     "text": [
      "UserWarning: `DataFrame.to_csv` defaulting to pandas implementation.\n",
      "UserWarning: Distributing <class 'pandas.core.frame.DataFrame'> object. This may take some time.\n"
     ]
    }
   ],
   "source": [
    "anime_data_user_counts_df.to_csv('/content/Database_Files/new_anime_data.csv',columns = anime_data_user_counts_df.columns)"
   ]
  },
  {
   "cell_type": "code",
   "execution_count": 54,
   "metadata": {
    "colab": {
     "base_uri": "https://localhost:8080/",
     "height": 52
    },
    "colab_type": "code",
    "id": "4IIflhU4Abkd",
    "outputId": "6ab721ed-a40a-4aab-e17e-39b99089f110"
   },
   "outputs": [
    {
     "name": "stderr",
     "output_type": "stream",
     "text": [
      "UserWarning: `DataFrame.to_csv` defaulting to pandas implementation.\n",
      "UserWarning: Distributing <class 'pandas.core.frame.DataFrame'> object. This may take some time.\n"
     ]
    }
   ],
   "source": [
    "anime_data.to_csv('/content/Database_Files/anime_data_2.csv',columns = anime_data.columns)"
   ]
  },
  {
   "cell_type": "markdown",
   "metadata": {
    "colab_type": "text",
    "id": "7pNZnVgSJL2X"
   },
   "source": [
    "## Content Based Filtering"
   ]
  },
  {
   "cell_type": "code",
   "execution_count": 55,
   "metadata": {
    "colab": {
     "base_uri": "https://localhost:8080/",
     "height": 52
    },
    "colab_type": "code",
    "id": "jpqhu0t2Ke2m",
    "outputId": "33bcf697-467e-49b2-c74f-dcd9f503e731"
   },
   "outputs": [
    {
     "name": "stderr",
     "output_type": "stream",
     "text": [
      "UserWarning: Distributing <class 'numpy.ndarray'> object. This may take some time.\n"
     ]
    },
    {
     "name": "stdout",
     "output_type": "stream",
     "text": [
      "(11194, 11909)\n"
     ]
    }
   ],
   "source": [
    "tfidf = TfidfVectorizer(stop_words = 'english')\n",
    "tfidf_matrix = tfidf.fit_transform(anime_data.combined_features)\n",
    "tfidf_df = pd.DataFrame(tfidf_matrix.toarray(),anime_data.index.tolist())\n",
    "print(tfidf_df.shape)"
   ]
  },
  {
   "cell_type": "code",
   "execution_count": 56,
   "metadata": {
    "colab": {
     "base_uri": "https://localhost:8080/",
     "height": 52
    },
    "colab_type": "code",
    "id": "0m_DiBTUM-dN",
    "outputId": "e1a5ce10-dc1a-49d0-eb84-d23dbe969dd1"
   },
   "outputs": [
    {
     "name": "stderr",
     "output_type": "stream",
     "text": [
      "UserWarning: Distributing <class 'numpy.ndarray'> object. This may take some time.\n"
     ]
    },
    {
     "name": "stdout",
     "output_type": "stream",
     "text": [
      "(11194, 12034)\n"
     ]
    }
   ],
   "source": [
    "cv = CountVectorizer()\n",
    "cv_matrix = cv.fit_transform(anime_data.combined_features)\n",
    "cv_df = pd.DataFrame(cv_matrix.toarray(),anime_data.index.tolist())\n",
    "print(cv_df.shape)"
   ]
  },
  {
   "cell_type": "code",
   "execution_count": 57,
   "metadata": {
    "colab": {
     "base_uri": "https://localhost:8080/",
     "height": 282
    },
    "colab_type": "code",
    "id": "dJ192LuOLdfM",
    "outputId": "5ceabcd0-5f07-4784-c792-01505f67c4ee"
   },
   "outputs": [
    {
     "data": {
      "image/png": "[encoded data removed]",
      "text/plain": [
       "<Figure size 432x288 with 1 Axes>"
      ]
     },
     "metadata": {
      "needs_background": "light",
      "tags": []
     },
     "output_type": "display_data"
    }
   ],
   "source": [
    "svd_2 = TruncatedSVD(n_components=200)\n",
    "latent_matrix_2 = svd_2.fit_transform(tfidf_df)\n",
    "# Plot var explained\n",
    "explained_2 = svd_2.explained_variance_ratio_.cumsum()\n",
    "plt.plot(explained_2,'-',ms=16,color='red')\n",
    "plt.xlabel('Singular Value Component',fontsize = 12)\n",
    "plt.ylabel('Cummulative percent of Variance',fontsize=12)\n",
    "plt.show()"
   ]
  },
  {
   "cell_type": "code",
   "execution_count": 58,
   "metadata": {
    "colab": {
     "base_uri": "https://localhost:8080/",
     "height": 282
    },
    "colab_type": "code",
    "id": "xOMDLmLRLdqM",
    "outputId": "c46d7c87-3f62-43c9-d48c-ccb347953ce8"
   },
   "outputs": [
    {
     "data": {
      "image/png": "[encoded data removed]",
      "text/plain": [
       "<Figure size 432x288 with 1 Axes>"
      ]
     },
     "metadata": {
      "needs_background": "light",
      "tags": []
     },
     "output_type": "display_data"
    }
   ],
   "source": [
    "svd_3 = TruncatedSVD(n_components=200)\n",
    "latent_matrix_3 = svd_3.fit_transform(cv_df)\n",
    "# Plot var explained\n",
    "explained_3 = svd_3.explained_variance_ratio_.cumsum()\n",
    "plt.plot(explained_3,'-',ms=16,color='red')\n",
    "plt.xlabel('Singular Value Component',fontsize = 12)\n",
    "plt.ylabel('Cummulative percent of Variance',fontsize=12)\n",
    "plt.show()"
   ]
  },
  {
   "cell_type": "code",
   "execution_count": 59,
   "metadata": {
    "colab": {
     "base_uri": "https://localhost:8080/",
     "height": 52
    },
    "colab_type": "code",
    "id": "GtiqKkTVLdlE",
    "outputId": "35ceb82f-094d-4749-fa83-0fd7e21297c8"
   },
   "outputs": [
    {
     "name": "stderr",
     "output_type": "stream",
     "text": [
      "UserWarning: `Series.tolist` defaulting to pandas implementation.\n",
      "UserWarning: Distributing <class 'numpy.ndarray'> object. This may take some time.\n"
     ]
    }
   ],
   "source": [
    "n = 200\n",
    "latent_matrix_1_df = pd.DataFrame(latent_matrix_3[:,0:n],index = anime_data.name.tolist())"
   ]
  },
  {
   "cell_type": "code",
   "execution_count": 60,
   "metadata": {
    "colab": {
     "base_uri": "https://localhost:8080/",
     "height": 286
    },
    "colab_type": "code",
    "id": "YbyUPTXECcid",
    "outputId": "d0c4da6b-4305-493e-a2fd-9d16cda397e3"
   },
   "outputs": [
    {
     "data": {
      "text/html": [
       "<div>\n",
       "<style scoped>\n",
       "    .dataframe tbody tr th:only-of-type {\n",
       "        vertical-align: middle;\n",
       "    }\n",
       "\n",
       "    .dataframe tbody tr th {\n",
       "        vertical-align: top;\n",
       "    }\n",
       "\n",
       "    .dataframe thead th {\n",
       "        text-align: right;\n",
       "    }\n",
       "</style>\n",
       "<table border=\"1\" class=\"dataframe\">\n",
       "  <thead>\n",
       "    <tr style=\"text-align: right;\">\n",
       "      <th></th>\n",
       "      <th>0</th>\n",
       "      <th>1</th>\n",
       "      <th>2</th>\n",
       "      <th>3</th>\n",
       "      <th>4</th>\n",
       "      <th>5</th>\n",
       "      <th>6</th>\n",
       "      <th>7</th>\n",
       "      <th>8</th>\n",
       "      <th>9</th>\n",
       "      <th>10</th>\n",
       "      <th>189</th>\n",
       "      <th>190</th>\n",
       "      <th>191</th>\n",
       "      <th>192</th>\n",
       "      <th>193</th>\n",
       "      <th>194</th>\n",
       "      <th>195</th>\n",
       "      <th>196</th>\n",
       "      <th>197</th>\n",
       "      <th>198</th>\n",
       "      <th>199</th>\n",
       "    </tr>\n",
       "  </thead>\n",
       "  <tbody>\n",
       "    <tr>\n",
       "      <th>Kimi no Na wa.</th>\n",
       "      <td>1.058104</td>\n",
       "      <td>0.040561</td>\n",
       "      <td>0.864502</td>\n",
       "      <td>0.538268</td>\n",
       "      <td>0.245810</td>\n",
       "      <td>0.600721</td>\n",
       "      <td>-0.019463</td>\n",
       "      <td>-0.341587</td>\n",
       "      <td>-0.648448</td>\n",
       "      <td>1.150391</td>\n",
       "      <td>0.410443</td>\n",
       "      <td>0.010849</td>\n",
       "      <td>0.036608</td>\n",
       "      <td>-0.054400</td>\n",
       "      <td>-0.033814</td>\n",
       "      <td>0.022506</td>\n",
       "      <td>0.024854</td>\n",
       "      <td>-0.047631</td>\n",
       "      <td>-0.022580</td>\n",
       "      <td>-0.034458</td>\n",
       "      <td>0.001556</td>\n",
       "      <td>0.002385</td>\n",
       "    </tr>\n",
       "    <tr>\n",
       "      <th>Fullmetal Alchemist: Brotherhood</th>\n",
       "      <td>1.542666</td>\n",
       "      <td>-0.329396</td>\n",
       "      <td>-0.606532</td>\n",
       "      <td>0.333287</td>\n",
       "      <td>-0.904849</td>\n",
       "      <td>0.472320</td>\n",
       "      <td>-0.358157</td>\n",
       "      <td>-0.082222</td>\n",
       "      <td>1.075165</td>\n",
       "      <td>0.483684</td>\n",
       "      <td>0.367631</td>\n",
       "      <td>0.048576</td>\n",
       "      <td>0.010109</td>\n",
       "      <td>0.025449</td>\n",
       "      <td>0.014660</td>\n",
       "      <td>0.030498</td>\n",
       "      <td>0.007028</td>\n",
       "      <td>0.018551</td>\n",
       "      <td>-0.003846</td>\n",
       "      <td>0.025767</td>\n",
       "      <td>-0.023352</td>\n",
       "      <td>0.010661</td>\n",
       "    </tr>\n",
       "    <tr>\n",
       "      <th>Gintama°</th>\n",
       "      <td>1.776551</td>\n",
       "      <td>-0.348643</td>\n",
       "      <td>-1.263422</td>\n",
       "      <td>-0.122628</td>\n",
       "      <td>-0.016022</td>\n",
       "      <td>-0.322650</td>\n",
       "      <td>0.101176</td>\n",
       "      <td>-0.012099</td>\n",
       "      <td>-0.342129</td>\n",
       "      <td>-0.022864</td>\n",
       "      <td>-0.521885</td>\n",
       "      <td>0.010157</td>\n",
       "      <td>-0.019270</td>\n",
       "      <td>-0.022604</td>\n",
       "      <td>0.007018</td>\n",
       "      <td>0.005950</td>\n",
       "      <td>0.011144</td>\n",
       "      <td>-0.030384</td>\n",
       "      <td>-0.033936</td>\n",
       "      <td>0.002029</td>\n",
       "      <td>-0.002765</td>\n",
       "      <td>-0.021732</td>\n",
       "    </tr>\n",
       "    <tr>\n",
       "      <th>Steins;Gate</th>\n",
       "      <td>0.796444</td>\n",
       "      <td>-0.386649</td>\n",
       "      <td>-1.022311</td>\n",
       "      <td>-0.121319</td>\n",
       "      <td>0.248278</td>\n",
       "      <td>0.439494</td>\n",
       "      <td>0.175500</td>\n",
       "      <td>-0.005840</td>\n",
       "      <td>-0.441359</td>\n",
       "      <td>-0.451495</td>\n",
       "      <td>0.165321</td>\n",
       "      <td>-0.002789</td>\n",
       "      <td>0.013858</td>\n",
       "      <td>0.000475</td>\n",
       "      <td>-0.004145</td>\n",
       "      <td>-0.021263</td>\n",
       "      <td>-0.002977</td>\n",
       "      <td>0.005250</td>\n",
       "      <td>0.015774</td>\n",
       "      <td>-0.003454</td>\n",
       "      <td>0.027109</td>\n",
       "      <td>-0.004257</td>\n",
       "    </tr>\n",
       "    <tr>\n",
       "      <th>Gintama&amp;#039;</th>\n",
       "      <td>1.775320</td>\n",
       "      <td>-0.347800</td>\n",
       "      <td>-1.262557</td>\n",
       "      <td>-0.122920</td>\n",
       "      <td>-0.017477</td>\n",
       "      <td>-0.318560</td>\n",
       "      <td>0.099490</td>\n",
       "      <td>-0.011996</td>\n",
       "      <td>-0.341934</td>\n",
       "      <td>-0.024366</td>\n",
       "      <td>-0.520242</td>\n",
       "      <td>0.004285</td>\n",
       "      <td>-0.013369</td>\n",
       "      <td>-0.010358</td>\n",
       "      <td>-0.004369</td>\n",
       "      <td>0.003746</td>\n",
       "      <td>-0.002107</td>\n",
       "      <td>-0.022421</td>\n",
       "      <td>-0.029876</td>\n",
       "      <td>-0.003180</td>\n",
       "      <td>0.008867</td>\n",
       "      <td>-0.011583</td>\n",
       "    </tr>\n",
       "  </tbody>\n",
       "</table>\n",
       "</div><p>5 rows x 200 columns</p>\n",
       "</div>"
      ],
      "text/plain": [
       "                                       0         1    ...       198       199\n",
       "Kimi no Na wa.                    1.058104  0.040561  ...  0.001556  0.002385\n",
       "Fullmetal Alchemist: Brotherhood  1.542666 -0.329396  ... -0.023352  0.010661\n",
       "Gintama°                          1.776551 -0.348643  ... -0.002765 -0.021732\n",
       "Steins;Gate                       0.796444 -0.386649  ...  0.027109 -0.004257\n",
       "Gintama&#039;                     1.775320 -0.347800  ...  0.008867 -0.011583\n",
       "\n",
       "[5 rows x 200 columns]"
      ]
     },
     "execution_count": 60,
     "metadata": {
      "tags": []
     },
     "output_type": "execute_result"
    }
   ],
   "source": [
    "latent_matrix_1_df.head()"
   ]
  },
  {
   "cell_type": "code",
   "execution_count": 61,
   "metadata": {
    "colab": {
     "base_uri": "https://localhost:8080/",
     "height": 52
    },
    "colab_type": "code",
    "id": "H81aA-PaLdjh",
    "outputId": "56f3c0b4-9f81-4e6e-cbed-89c937413f64"
   },
   "outputs": [
    {
     "name": "stderr",
     "output_type": "stream",
     "text": [
      "UserWarning: `DataFrame.to_csv` defaulting to pandas implementation.\n",
      "UserWarning: Distributing <class 'pandas.core.frame.DataFrame'> object. This may take some time.\n"
     ]
    }
   ],
   "source": [
    "latent_matrix_1_df.to_csv('/content/Database_Files/content_based_latent_matrix.csv')"
   ]
  },
  {
   "cell_type": "code",
   "execution_count": 61,
   "metadata": {
    "colab": {},
    "colab_type": "code",
    "id": "i05zfOfwLdaY"
   },
   "outputs": [],
   "source": []
  },
  {
   "cell_type": "markdown",
   "metadata": {
    "colab_type": "text",
    "id": "wYAvhJNzDWRK"
   },
   "source": [
    "## Colaborative Filtering"
   ]
  },
  {
   "cell_type": "code",
   "execution_count": 62,
   "metadata": {
    "colab": {
     "base_uri": "https://localhost:8080/",
     "height": 52
    },
    "colab_type": "code",
    "id": "dLQWXpHv-oEh",
    "outputId": "1d9a7e51-3491-40cd-f853-e420862dff58"
   },
   "outputs": [
    {
     "name": "stderr",
     "output_type": "stream",
     "text": [
      "UserWarning: `DataFrame.pivot_table` defaulting to pandas implementation.\n",
      "UserWarning: Distributing <class 'pandas.core.frame.DataFrame'> object. This may take some time.\n"
     ]
    }
   ],
   "source": [
    "ratings_f2 = ratings_f1.reset_index().pivot_table(index='anime_id',columns='user_id',values='rating',fill_value=0)"
   ]
  },
  {
   "cell_type": "code",
   "execution_count": 63,
   "metadata": {
    "colab": {
     "base_uri": "https://localhost:8080/",
     "height": 52
    },
    "colab_type": "code",
    "id": "kgWK4xuxDkRu",
    "outputId": "7cfc88da-229a-4509-cfdc-c0237d55602d"
   },
   "outputs": [
    {
     "name": "stderr",
     "output_type": "stream",
     "text": [
      "UserWarning: `DataFrame.replace` defaulting to pandas implementation.\n",
      "UserWarning: Distributing <class 'pandas.core.frame.DataFrame'> object. This may take some time.\n"
     ]
    }
   ],
   "source": [
    "ratings_f2 = ratings_f2.replace(to_replace=-1,value=0)"
   ]
  },
  {
   "cell_type": "code",
   "execution_count": 64,
   "metadata": {
    "colab": {
     "base_uri": "https://localhost:8080/",
     "height": 282
    },
    "colab_type": "code",
    "id": "f4a5wt0BszXC",
    "outputId": "8c8471db-8f5e-4eef-aead-a875c804443a"
   },
   "outputs": [
    {
     "data": {
      "text/html": [
       "<div>\n",
       "<style scoped>\n",
       "    .dataframe tbody tr th:only-of-type {\n",
       "        vertical-align: middle;\n",
       "    }\n",
       "\n",
       "    .dataframe tbody tr th {\n",
       "        vertical-align: top;\n",
       "    }\n",
       "\n",
       "    .dataframe thead th {\n",
       "        text-align: right;\n",
       "    }\n",
       "</style>\n",
       "<table border=\"1\" class=\"dataframe\">\n",
       "  <thead>\n",
       "    <tr style=\"text-align: right;\">\n",
       "      <th>user_id</th>\n",
       "      <th>1</th>\n",
       "      <th>3</th>\n",
       "      <th>5</th>\n",
       "      <th>7</th>\n",
       "      <th>11</th>\n",
       "      <th>13</th>\n",
       "      <th>14</th>\n",
       "      <th>17</th>\n",
       "      <th>21</th>\n",
       "      <th>29</th>\n",
       "      <th>35</th>\n",
       "      <th>73491</th>\n",
       "      <th>73494</th>\n",
       "      <th>73495</th>\n",
       "      <th>73499</th>\n",
       "      <th>73500</th>\n",
       "      <th>73502</th>\n",
       "      <th>73503</th>\n",
       "      <th>73504</th>\n",
       "      <th>73507</th>\n",
       "      <th>73510</th>\n",
       "      <th>73515</th>\n",
       "    </tr>\n",
       "    <tr>\n",
       "      <th>anime_id</th>\n",
       "      <th></th>\n",
       "      <th></th>\n",
       "      <th></th>\n",
       "      <th></th>\n",
       "      <th></th>\n",
       "      <th></th>\n",
       "      <th></th>\n",
       "      <th></th>\n",
       "      <th></th>\n",
       "      <th></th>\n",
       "      <th></th>\n",
       "      <th></th>\n",
       "      <th></th>\n",
       "      <th></th>\n",
       "      <th></th>\n",
       "      <th></th>\n",
       "      <th></th>\n",
       "      <th></th>\n",
       "      <th></th>\n",
       "      <th></th>\n",
       "      <th></th>\n",
       "      <th></th>\n",
       "    </tr>\n",
       "  </thead>\n",
       "  <tbody>\n",
       "    <tr>\n",
       "      <th>1</th>\n",
       "      <td>0</td>\n",
       "      <td>0</td>\n",
       "      <td>0</td>\n",
       "      <td>0</td>\n",
       "      <td>0</td>\n",
       "      <td>0</td>\n",
       "      <td>0</td>\n",
       "      <td>0</td>\n",
       "      <td>9</td>\n",
       "      <td>0</td>\n",
       "      <td>0</td>\n",
       "      <td>0</td>\n",
       "      <td>0</td>\n",
       "      <td>10</td>\n",
       "      <td>9</td>\n",
       "      <td>0</td>\n",
       "      <td>0</td>\n",
       "      <td>9</td>\n",
       "      <td>10</td>\n",
       "      <td>9</td>\n",
       "      <td>0</td>\n",
       "      <td>10</td>\n",
       "    </tr>\n",
       "    <tr>\n",
       "      <th>5</th>\n",
       "      <td>0</td>\n",
       "      <td>0</td>\n",
       "      <td>0</td>\n",
       "      <td>0</td>\n",
       "      <td>0</td>\n",
       "      <td>0</td>\n",
       "      <td>0</td>\n",
       "      <td>0</td>\n",
       "      <td>9</td>\n",
       "      <td>0</td>\n",
       "      <td>0</td>\n",
       "      <td>0</td>\n",
       "      <td>0</td>\n",
       "      <td>8</td>\n",
       "      <td>0</td>\n",
       "      <td>0</td>\n",
       "      <td>0</td>\n",
       "      <td>7</td>\n",
       "      <td>10</td>\n",
       "      <td>8</td>\n",
       "      <td>0</td>\n",
       "      <td>10</td>\n",
       "    </tr>\n",
       "    <tr>\n",
       "      <th>6</th>\n",
       "      <td>0</td>\n",
       "      <td>0</td>\n",
       "      <td>8</td>\n",
       "      <td>0</td>\n",
       "      <td>0</td>\n",
       "      <td>0</td>\n",
       "      <td>0</td>\n",
       "      <td>7</td>\n",
       "      <td>0</td>\n",
       "      <td>0</td>\n",
       "      <td>0</td>\n",
       "      <td>0</td>\n",
       "      <td>9</td>\n",
       "      <td>0</td>\n",
       "      <td>9</td>\n",
       "      <td>0</td>\n",
       "      <td>0</td>\n",
       "      <td>9</td>\n",
       "      <td>9</td>\n",
       "      <td>9</td>\n",
       "      <td>0</td>\n",
       "      <td>10</td>\n",
       "    </tr>\n",
       "    <tr>\n",
       "      <th>7</th>\n",
       "      <td>0</td>\n",
       "      <td>0</td>\n",
       "      <td>0</td>\n",
       "      <td>0</td>\n",
       "      <td>0</td>\n",
       "      <td>0</td>\n",
       "      <td>0</td>\n",
       "      <td>0</td>\n",
       "      <td>0</td>\n",
       "      <td>0</td>\n",
       "      <td>0</td>\n",
       "      <td>9</td>\n",
       "      <td>0</td>\n",
       "      <td>7</td>\n",
       "      <td>0</td>\n",
       "      <td>0</td>\n",
       "      <td>9</td>\n",
       "      <td>0</td>\n",
       "      <td>7</td>\n",
       "      <td>0</td>\n",
       "      <td>0</td>\n",
       "      <td>0</td>\n",
       "    </tr>\n",
       "    <tr>\n",
       "      <th>8</th>\n",
       "      <td>0</td>\n",
       "      <td>0</td>\n",
       "      <td>0</td>\n",
       "      <td>0</td>\n",
       "      <td>0</td>\n",
       "      <td>0</td>\n",
       "      <td>0</td>\n",
       "      <td>0</td>\n",
       "      <td>0</td>\n",
       "      <td>0</td>\n",
       "      <td>0</td>\n",
       "      <td>0</td>\n",
       "      <td>0</td>\n",
       "      <td>0</td>\n",
       "      <td>0</td>\n",
       "      <td>0</td>\n",
       "      <td>0</td>\n",
       "      <td>0</td>\n",
       "      <td>0</td>\n",
       "      <td>0</td>\n",
       "      <td>0</td>\n",
       "      <td>0</td>\n",
       "    </tr>\n",
       "  </tbody>\n",
       "</table>\n",
       "</div><p>5 rows x 27162 columns</p>\n",
       "</div>"
      ],
      "text/plain": [
       "user_id   1      3      5      7      11     ...  73503  73504  73507  73510  73515\n",
       "anime_id                                     ...                                   \n",
       "1             0      0      0      0      0  ...      9     10      9      0     10\n",
       "5             0      0      0      0      0  ...      7     10      8      0     10\n",
       "6             0      0      8      0      0  ...      9      9      9      0     10\n",
       "7             0      0      0      0      0  ...      0      7      0      0      0\n",
       "8             0      0      0      0      0  ...      0      0      0      0      0\n",
       "\n",
       "[5 rows x 27162 columns]"
      ]
     },
     "execution_count": 64,
     "metadata": {
      "tags": []
     },
     "output_type": "execute_result"
    }
   ],
   "source": [
    "ratings_f2.head()"
   ]
  },
  {
   "cell_type": "code",
   "execution_count": 65,
   "metadata": {
    "colab": {
     "base_uri": "https://localhost:8080/",
     "height": 35
    },
    "colab_type": "code",
    "id": "Lnu2oN2qtQaS",
    "outputId": "6019dce0-1671-462c-b8f3-7612372f9395"
   },
   "outputs": [
    {
     "data": {
      "text/plain": [
       "(11194, 27162)"
      ]
     },
     "execution_count": 65,
     "metadata": {
      "tags": []
     },
     "output_type": "execute_result"
    }
   ],
   "source": [
    "ratings_f2.shape"
   ]
  },
  {
   "cell_type": "code",
   "execution_count": 66,
   "metadata": {
    "colab": {},
    "colab_type": "code",
    "id": "ka55Kh_ntr2h"
   },
   "outputs": [],
   "source": [
    "svd = TruncatedSVD(n_components=200)\n",
    "latent_matrix = svd.fit_transform(ratings_f2)\n",
    "latent_matrix_2_df = pd.DataFrame(latent_matrix,\n",
    "                                index = anime_data.name.tolist())"
   ]
  },
  {
   "cell_type": "code",
   "execution_count": 67,
   "metadata": {
    "colab": {
     "base_uri": "https://localhost:8080/",
     "height": 35
    },
    "colab_type": "code",
    "id": "j-HabT9XvDTi",
    "outputId": "d5772f55-f4dc-4b5e-bb45-d6efc1a5a784"
   },
   "outputs": [
    {
     "data": {
      "text/plain": [
       "(11194, 200)"
      ]
     },
     "execution_count": 67,
     "metadata": {
      "tags": []
     },
     "output_type": "execute_result"
    }
   ],
   "source": [
    "latent_matrix_2_df.shape"
   ]
  },
  {
   "cell_type": "code",
   "execution_count": 68,
   "metadata": {
    "colab": {
     "base_uri": "https://localhost:8080/",
     "height": 284
    },
    "colab_type": "code",
    "id": "3LSygABC0gVN",
    "outputId": "8d58dac6-0c69-4382-f28d-33562e737e77"
   },
   "outputs": [
    {
     "data": {
      "image/png": "[encoded data removed]",
      "text/plain": [
       "<Figure size 432x288 with 1 Axes>"
      ]
     },
     "metadata": {
      "needs_background": "light",
      "tags": []
     },
     "output_type": "display_data"
    }
   ],
   "source": [
    "# plot variance\n",
    "explained = svd.explained_variance_ratio_.cumsum()\n",
    "plt.plot(explained,'-',ms = 16,color = 'purple')\n",
    "plt.xlabel('Singular Value Component',fontsize = 12)\n",
    "plt.ylabel('Cummulative percent of Variance',fontsize=12)\n",
    "plt.show()"
   ]
  },
  {
   "cell_type": "code",
   "execution_count": 69,
   "metadata": {
    "colab": {
     "base_uri": "https://localhost:8080/",
     "height": 52
    },
    "colab_type": "code",
    "id": "uE5k2_JwFCAH",
    "outputId": "87d11622-c9e9-4d4c-abe2-76a0c906515a"
   },
   "outputs": [
    {
     "name": "stderr",
     "output_type": "stream",
     "text": [
      "UserWarning: `DataFrame.to_csv` defaulting to pandas implementation.\n",
      "UserWarning: Distributing <class 'pandas.core.frame.DataFrame'> object. This may take some time.\n"
     ]
    }
   ],
   "source": [
    "latent_matrix_2_df.to_csv('/content/Database_Files/collaborative_based_latent_matrix.csv')"
   ]
  },
  {
   "cell_type": "markdown",
   "metadata": {
    "colab_type": "text",
    "id": "KCjJBdyMPmqO"
   },
   "source": [
    "## Running a Content/Collaborative and hybrid cosine similarity."
   ]
  },
  {
   "cell_type": "code",
   "execution_count": 70,
   "metadata": {
    "colab": {},
    "colab_type": "code",
    "id": "NR_ZchdC1MTH"
   },
   "outputs": [],
   "source": [
    "test_anime_name = 'Doraemon (1979)'"
   ]
  },
  {
   "cell_type": "code",
   "execution_count": 71,
   "metadata": {
    "colab": {},
    "colab_type": "code",
    "id": "26xyDwAqQWuv"
   },
   "outputs": [],
   "source": [
    "# Taking latent vectors for selected movie from both content and collaborative based latent vector dataframes.\n",
    "content_latent_vector = np.array(latent_matrix_1_df.loc[test_anime_name]).reshape(1,-1)\n",
    "collaborative_latent_vector = np.array(latent_matrix_2_df.loc[test_anime_name]).reshape(1,-1)"
   ]
  },
  {
   "cell_type": "code",
   "execution_count": 72,
   "metadata": {
    "colab": {},
    "colab_type": "code",
    "id": "R0E4KaZwSJGd"
   },
   "outputs": [],
   "source": [
    "score_1 = cosine_similarity(latent_matrix_1_df,content_latent_vector).reshape(-1)\n",
    "score_2 = cosine_similarity(latent_matrix_2_df,collaborative_latent_vector).reshape(-1)"
   ]
  },
  {
   "cell_type": "code",
   "execution_count": 73,
   "metadata": {
    "colab": {},
    "colab_type": "code",
    "id": "f-9DHvFTSWoi"
   },
   "outputs": [],
   "source": [
    "hybrid = (score_1+score_2)/2"
   ]
  },
  {
   "cell_type": "code",
   "execution_count": 74,
   "metadata": {
    "colab": {},
    "colab_type": "code",
    "id": "ycW0iywPSbo-"
   },
   "outputs": [],
   "source": [
    "dictDF = {'content':score_1,\n",
    "          'collaborative':score_2,\n",
    "          'hybrid':hybrid}"
   ]
  },
  {
   "cell_type": "code",
   "execution_count": 75,
   "metadata": {
    "colab": {
     "base_uri": "https://localhost:8080/",
     "height": 35
    },
    "colab_type": "code",
    "id": "vB5jUfycSqi9",
    "outputId": "8dfd6e22-f1a3-4334-c761-3aae1c9ccf60"
   },
   "outputs": [
    {
     "name": "stderr",
     "output_type": "stream",
     "text": [
      "UserWarning: Distributing <class 'dict'> object. This may take some time.\n"
     ]
    }
   ],
   "source": [
    "similar = pd.DataFrame(dictDF,index = latent_matrix_1_df.index)"
   ]
  },
  {
   "cell_type": "code",
   "execution_count": 76,
   "metadata": {
    "colab": {
     "base_uri": "https://localhost:8080/",
     "height": 35
    },
    "colab_type": "code",
    "id": "WAAFMs3LSw4W",
    "outputId": "dba04f72-610a-4bf4-c1cc-c7cd5b833d50"
   },
   "outputs": [
    {
     "name": "stderr",
     "output_type": "stream",
     "text": [
      "UserWarning: sort_values defaulting to pandas implementation.\n"
     ]
    }
   ],
   "source": [
    "similar.sort_values('hybrid',ascending=False,inplace = True)\n"
   ]
  },
  {
   "cell_type": "code",
   "execution_count": 77,
   "metadata": {
    "colab": {
     "base_uri": "https://localhost:8080/",
     "height": 386
    },
    "colab_type": "code",
    "id": "bPxTS7w3S15L",
    "outputId": "1ddd0747-1093-4442-cc24-5719206d15ef"
   },
   "outputs": [
    {
     "data": {
      "text/html": [
       "<div>\n",
       "<style scoped>\n",
       "    .dataframe tbody tr th:only-of-type {\n",
       "        vertical-align: middle;\n",
       "    }\n",
       "\n",
       "    .dataframe tbody tr th {\n",
       "        vertical-align: top;\n",
       "    }\n",
       "\n",
       "    .dataframe thead th {\n",
       "        text-align: right;\n",
       "    }\n",
       "</style>\n",
       "<table border=\"1\" class=\"dataframe\">\n",
       "  <thead>\n",
       "    <tr style=\"text-align: right;\">\n",
       "      <th></th>\n",
       "      <th>content</th>\n",
       "      <th>collaborative</th>\n",
       "      <th>hybrid</th>\n",
       "    </tr>\n",
       "  </thead>\n",
       "  <tbody>\n",
       "    <tr>\n",
       "      <th>Level E</th>\n",
       "      <td>0.693047</td>\n",
       "      <td>0.767602</td>\n",
       "      <td>0.730324</td>\n",
       "    </tr>\n",
       "    <tr>\n",
       "      <th>Doraemon: The Day When I Was Born</th>\n",
       "      <td>0.767239</td>\n",
       "      <td>0.689156</td>\n",
       "      <td>0.728197</td>\n",
       "    </tr>\n",
       "    <tr>\n",
       "      <th>Dorami &amp;amp; Doraemons: Space Land&amp;#039;s Critical Event</th>\n",
       "      <td>0.748324</td>\n",
       "      <td>0.703756</td>\n",
       "      <td>0.726040</td>\n",
       "    </tr>\n",
       "    <tr>\n",
       "      <th>Sonic X</th>\n",
       "      <td>0.839310</td>\n",
       "      <td>0.570269</td>\n",
       "      <td>0.704789</td>\n",
       "    </tr>\n",
       "    <tr>\n",
       "      <th>Doraemon Movie 16: Nobita no Sousei Nikki</th>\n",
       "      <td>0.718291</td>\n",
       "      <td>0.669749</td>\n",
       "      <td>0.694020</td>\n",
       "    </tr>\n",
       "    <tr>\n",
       "      <th>Fairy Tail</th>\n",
       "      <td>0.637394</td>\n",
       "      <td>0.749257</td>\n",
       "      <td>0.693326</td>\n",
       "    </tr>\n",
       "    <tr>\n",
       "      <th>YAT Anshin! Uchuu Ryokou 2</th>\n",
       "      <td>0.715881</td>\n",
       "      <td>0.665204</td>\n",
       "      <td>0.690543</td>\n",
       "    </tr>\n",
       "    <tr>\n",
       "      <th>Oban Star-Racers</th>\n",
       "      <td>0.641157</td>\n",
       "      <td>0.733278</td>\n",
       "      <td>0.687218</td>\n",
       "    </tr>\n",
       "    <tr>\n",
       "      <th>Mazinkaiser</th>\n",
       "      <td>0.641162</td>\n",
       "      <td>0.727573</td>\n",
       "      <td>0.684367</td>\n",
       "    </tr>\n",
       "    <tr>\n",
       "      <th>MÄR</th>\n",
       "      <td>0.691623</td>\n",
       "      <td>0.673584</td>\n",
       "      <td>0.682604</td>\n",
       "    </tr>\n",
       "    <tr>\n",
       "      <th>Grimm Masterpiece Theater</th>\n",
       "      <td>0.637852</td>\n",
       "      <td>0.707298</td>\n",
       "      <td>0.672575</td>\n",
       "    </tr>\n",
       "  </tbody>\n",
       "</table>\n",
       "</div>"
      ],
      "text/plain": [
       "                                                     content  ...    hybrid\n",
       "Level E                                             0.693047  ...  0.730324\n",
       "Doraemon: The Day When I Was Born                   0.767239  ...  0.728197\n",
       "Dorami &amp; Doraemons: Space Land&#039;s Criti...  0.748324  ...  0.726040\n",
       "Sonic X                                             0.839310  ...  0.704789\n",
       "Doraemon Movie 16: Nobita no Sousei Nikki           0.718291  ...  0.694020\n",
       "Fairy Tail                                          0.637394  ...  0.693326\n",
       "YAT Anshin! Uchuu Ryokou 2                          0.715881  ...  0.690543\n",
       "Oban Star-Racers                                    0.641157  ...  0.687218\n",
       "Mazinkaiser                                         0.641162  ...  0.684367\n",
       "MÄR                                                 0.691623  ...  0.682604\n",
       "Grimm Masterpiece Theater                           0.637852  ...  0.672575\n",
       "\n",
       "[11 rows x 3 columns]"
      ]
     },
     "execution_count": 77,
     "metadata": {
      "tags": []
     },
     "output_type": "execute_result"
    }
   ],
   "source": [
    "similar[1:].head(11)"
   ]
  },
  {
   "cell_type": "code",
   "execution_count": null,
   "metadata": {
    "colab": {},
    "colab_type": "code",
    "id": "AeN7BoLhTF25"
   },
   "outputs": [],
   "source": []
  }
 ],
 "metadata": {
  "accelerator": "GPU",
  "colab": {
   "collapsed_sections": [],
   "name": "Anime Recommendation System.ipynb",
   "provenance": [],
   "toc_visible": true
  },
  "kernelspec": {
   "display_name": "Python 3",
   "language": "python",
   "name": "python3"
  },
  "language_info": {
   "codemirror_mode": {
    "name": "ipython",
    "version": 3
   },
   "file_extension": ".py",
   "mimetype": "text/x-python",
   "name": "python",
   "nbconvert_exporter": "python",
   "pygments_lexer": "ipython3",
   "version": "3.7.3"
  }
 },
 "nbformat": 4,
 "nbformat_minor": 1
}
