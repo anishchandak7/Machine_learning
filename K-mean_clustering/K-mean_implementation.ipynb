{
 "cells": [
  {
   "cell_type": "code",
   "execution_count": 21,
   "metadata": {},
   "outputs": [
    {
     "name": "stdout",
     "output_type": "stream",
     "text": [
      "(500, 2) (500,)\n"
     ]
    }
   ],
   "source": [
    "# Clustered dataset creation\n",
    "from sklearn.datasets import make_blobs\n",
    "x,y = make_blobs(n_samples=500,n_features=2,random_state=3,centers=5)\n",
    "print(x.shape,y.shape)\n"
   ]
  },
  {
   "cell_type": "code",
   "execution_count": 22,
   "metadata": {},
   "outputs": [
    {
     "data": {
      "image/png": "[encoded data removed]",
      "text/plain": [
       "<Figure size 432x288 with 1 Axes>"
      ]
     },
     "metadata": {},
     "output_type": "display_data"
    }
   ],
   "source": [
    "import matplotlib.pyplot as plt\n",
    "plt.figure(0)\n",
    "plt.scatter(x[:,0],x[:,1])\n",
    "plt.show()"
   ]
  },
  {
   "cell_type": "code",
   "execution_count": 23,
   "metadata": {},
   "outputs": [
    {
     "name": "stdout",
     "output_type": "stream",
     "text": [
      "[array([-8.5644645 ,  5.54578749])]\n"
     ]
    }
   ],
   "source": [
    "# We can observe that -10<x<10 and -10.0 < y < 10\n",
    "# Initialize the centers\n",
    "# This code generates centers x and y coordinates in range of -10 to 10\n",
    "import numpy as np\n",
    "center = [10*(2*np.random.random((x.shape[1],))-1)]\n",
    "print(center)\n"
   ]
  },
  {
   "cell_type": "code",
   "execution_count": 24,
   "metadata": {},
   "outputs": [],
   "source": [
    "k = 5\n",
    "colors = ['orange','green','blue','red','purple']\n",
    "points = []\n",
    "clusters = {} # This list will store clusters in the form of dictionary.\n",
    "for i in range(k):\n",
    "    center = [10*(2*np.random.random((x.shape[1],))-1)]\n",
    "    cluster = {\n",
    "        'center':center,\n",
    "        'points':points,\n",
    "        'color':colors[i]\n",
    "    }\n",
    "    clusters[i]=cluster"
   ]
  },
  {
   "cell_type": "code",
   "execution_count": 25,
   "metadata": {},
   "outputs": [
    {
     "data": {
      "text/plain": [
       "{0: {'center': [array([-8.70688099, -4.67651974])],\n",
       "  'points': [],\n",
       "  'color': 'orange'},\n",
       " 1: {'center': [array([5.47124757, 9.52322337])],\n",
       "  'points': [],\n",
       "  'color': 'green'},\n",
       " 2: {'center': [array([5.21534526, 5.4079751 ])],\n",
       "  'points': [],\n",
       "  'color': 'blue'},\n",
       " 3: {'center': [array([9.30101399, 4.84604638])],\n",
       "  'points': [],\n",
       "  'color': 'red'},\n",
       " 4: {'center': [array([-1.27419915, -9.91202113])],\n",
       "  'points': [],\n",
       "  'color': 'purple'}}"
      ]
     },
     "execution_count": 25,
     "metadata": {},
     "output_type": "execute_result"
    }
   ],
   "source": [
    "clusters\n"
   ]
  },
  {
   "cell_type": "code",
   "execution_count": 26,
   "metadata": {},
   "outputs": [],
   "source": [
    "# Distance calculation(Euclidiant distance)\n",
    "def distance(v1,v2):\n",
    "    return np.sqrt(np.sum((v1-v2)**2))"
   ]
  },
  {
   "cell_type": "code",
   "execution_count": 27,
   "metadata": {},
   "outputs": [
    {
     "data": {
      "text/plain": [
       "2.23606797749979"
      ]
     },
     "execution_count": 27,
     "metadata": {},
     "output_type": "execute_result"
    }
   ],
   "source": [
    "v1 = np.array([2,3])\n",
    "v2 = np.array([3,5])\n",
    "distance(v1,v2)"
   ]
  },
  {
   "cell_type": "code",
   "execution_count": 28,
   "metadata": {},
   "outputs": [],
   "source": [
    "def assignment(clusters): # E - Step\n",
    "    for i in range(x.shape[0]):\n",
    "        dist = []\n",
    "        current_pt = x[i]\n",
    "        for kx in range(k):\n",
    "            d = distance(current_pt,clusters[kx]['center'])\n",
    "            dist.append(d)\n",
    "        current_cluster_index = np.argmin(dist)\n",
    "        clusters[current_cluster_index]['points'].append(current_pt)"
   ]
  },
  {
   "cell_type": "code",
   "execution_count": 29,
   "metadata": {},
   "outputs": [],
   "source": [
    "assignment(clusters)"
   ]
  },
  {
   "cell_type": "code",
   "execution_count": 30,
   "metadata": {},
   "outputs": [
    {
     "name": "stdout",
     "output_type": "stream",
     "text": [
      "500\n",
      "500\n",
      "500\n",
      "500\n",
      "500\n"
     ]
    }
   ],
   "source": [
    "for i in range(k):\n",
    "    print(len(clusters[i]['points']))"
   ]
  },
  {
   "cell_type": "code",
   "execution_count": 31,
   "metadata": {},
   "outputs": [],
   "source": [
    "def plot_cluster(clusters):\n",
    "    for kx in range(k):\n",
    "        # plot cluster points\n",
    "        points = np.array(clusters[kx]['points'])\n",
    "       \n",
    "        try:\n",
    "            plt.scatter(points[:,0],points[:,1],color = clusters[kx]['color'])\n",
    "        except:\n",
    "            pass\n",
    "             # plot cluster center\n",
    "        Ux = np.array(clusters[kx]['center'])\n",
    "        print(Ux)\n",
    "        plt.scatter(Ux[:,0],Ux[:,1],marker='*',color = 'black')\n"
   ]
  },
  {
   "cell_type": "code",
   "execution_count": 32,
   "metadata": {},
   "outputs": [
    {
     "name": "stdout",
     "output_type": "stream",
     "text": [
      "[[-8.70688099 -4.67651974]]\n",
      "[[5.47124757 9.52322337]]\n",
      "[[5.21534526 5.4079751 ]]\n",
      "[[9.30101399 4.84604638]]\n",
      "[[-1.27419915 -9.91202113]]\n"
     ]
    },
    {
     "data": {
      "image/png": "[encoded data removed]",
      "text/plain": [
       "<Figure size 432x288 with 1 Axes>"
      ]
     },
     "metadata": {},
     "output_type": "display_data"
    }
   ],
   "source": [
    "plot_cluster(clusters)"
   ]
  },
  {
   "cell_type": "code",
   "execution_count": 100,
   "metadata": {},
   "outputs": [],
   "source": []
  },
  {
   "cell_type": "code",
   "execution_count": null,
   "metadata": {},
   "outputs": [],
   "source": []
  }
 ],
 "metadata": {
  "kernelspec": {
   "display_name": "Python 3",
   "language": "python",
   "name": "python3"
  },
  "language_info": {
   "codemirror_mode": {
    "name": "ipython",
    "version": 3
   },
   "file_extension": ".py",
   "mimetype": "text/x-python",
   "name": "python",
   "nbconvert_exporter": "python",
   "pygments_lexer": "ipython3",
   "version": "3.6.5"
  }
 },
 "nbformat": 4,
 "nbformat_minor": 1
}
