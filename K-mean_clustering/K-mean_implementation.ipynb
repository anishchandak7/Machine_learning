{
 "cells": [
  {
   "cell_type": "code",
   "execution_count": 39,
   "metadata": {
    "collapsed": true
   },
   "outputs": [
    {
     "name": "stdout",
     "output_type": "stream",
     "text": [
      "(500, 2) (500,)\n"
     ]
    }
   ],
   "source": [
    "# Clustered dataset creation\n",
    "from sklearn.datasets import make_blobs\n",
    "x,y = make_blobs(n_samples=500,n_features=2,random_state=3,centers=5)\n",
    "print(x.shape,y.shape)\n"
   ]
  },
  {
   "cell_type": "code",
   "execution_count": 40,
   "metadata": {},
   "outputs": [
    {
     "data": {
      "image/png": "[encoded data removed]",
      "text/plain": [
       "<Figure size 432x288 with 1 Axes>"
      ]
     },
     "metadata": {},
     "output_type": "display_data"
    }
   ],
   "source": [
    "import matplotlib.pyplot as plt\n",
    "plt.figure(0)\n",
    "plt.scatter(x[:,0],x[:,1])\n",
    "plt.show()"
   ]
  },
  {
   "cell_type": "code",
   "execution_count": 115,
   "metadata": {},
   "outputs": [
    {
     "name": "stdout",
     "output_type": "stream",
     "text": [
      "[array([ 2.29584674, -9.04701584])]\n"
     ]
    }
   ],
   "source": [
    "# We can observe that -10<x<10 and -10.0 < y < 10\n",
    "# Initialize the centers\n",
    "# This code generates centers x and y coordinates in range of -10 to 10\n",
    "import numpy as np\n",
    "center = [10*(2*np.random.random((x.shape[1],))-1)]\n",
    "print(center)\n"
   ]
  },
  {
   "cell_type": "code",
   "execution_count": 116,
   "metadata": {},
   "outputs": [],
   "source": [
    "k = 5\n",
    "colors = ['orange','green','blue','red','purple']\n",
    "points = []\n",
    "clusters = [] # This list will store clusters in the form of dictionary.\n",
    "for i in range(k):\n",
    "    center = [10*(2*np.random.random((x.shape[1],))-1)]\n",
    "    cluster = {\n",
    "        'center':center,\n",
    "        'points':points,\n",
    "        'color':colors[i]\n",
    "    }\n",
    "    clusters.append(cluster)"
   ]
  },
  {
   "cell_type": "code",
   "execution_count": 117,
   "metadata": {},
   "outputs": [
    {
     "data": {
      "text/plain": [
       "[{'center': [array([-7.52487215,  0.35258534])],\n  'color': 'orange',\n  'points': []},\n {'center': [array([1.01244062, 6.61383363])], 'color': 'green', 'points': []},\n {'center': [array([-9.49491658, -5.91264629])],\n  'color': 'blue',\n  'points': []},\n {'center': [array([-1.03843716,  2.07572462])], 'color': 'red', 'points': []},\n {'center': [array([-5.86012707, -2.69966846])],\n  'color': 'purple',\n  'points': []}]"
      ]
     },
     "execution_count": 117,
     "metadata": {},
     "output_type": "execute_result"
    }
   ],
   "source": [
    "clusters\n"
   ]
  },
  {
   "cell_type": "code",
   "execution_count": 118,
   "metadata": {},
   "outputs": [],
   "source": [
    "# Distance calculation(Euclidiant distance)\n",
    "def distance(v1,v2):\n",
    "    return np.sqrt(np.sum((v1-v2)**2))"
   ]
  },
  {
   "cell_type": "code",
   "execution_count": 119,
   "metadata": {},
   "outputs": [
    {
     "data": {
      "text/plain": [
       "2.23606797749979"
      ]
     },
     "execution_count": 119,
     "metadata": {},
     "output_type": "execute_result"
    }
   ],
   "source": [
    "v1 = np.array([2,3])\n",
    "v2 = np.array([3,5])\n",
    "distance(v1,v2)"
   ]
  },
  {
   "cell_type": "code",
   "execution_count": 120,
   "metadata": {},
   "outputs": [],
   "source": [
    "def assignment(clusters): # E - Step\n",
    "    for i in range(x.shape[0]):\n",
    "        dist = []\n",
    "        current_pt = x[i]\n",
    "        for kx in range(k):\n",
    "            d = distance(current_pt,clusters[kx]['center'])\n",
    "            dist.append(d)\n",
    "        current_cluster_index = np.argmin(dist)\n",
    "        clusters[current_cluster_index]['points'].append(current_pt)"
   ]
  },
  {
   "cell_type": "code",
   "execution_count": 121,
   "metadata": {},
   "outputs": [],
   "source": [
    "assignment(clusters)"
   ]
  },
  {
   "cell_type": "code",
   "execution_count": 122,
   "metadata": {},
   "outputs": [
    {
     "name": "stdout",
     "output_type": "stream",
     "text": [
      "500\n500\n500\n500\n500\n"
     ]
    }
   ],
   "source": [
    "for i in range(k):\n",
    "    print(len(clusters[i]['points']))"
   ]
  },
  {
   "cell_type": "code",
   "execution_count": 106,
   "metadata": {},
   "outputs": [],
   "source": [
    "def plot_cluster(clusters):\n",
    "    for kx in range(k):\n",
    "        # plot cluster points\n",
    "        points = np.array(clusters[kx]['points'])\n",
    "       \n",
    "        try:\n",
    "            plt.scatter(points[:,0],points[:,1])\n",
    "        except:\n",
    "            pass\n",
    "             # plot cluster center\n",
    "        Ux = np.array(clusters[kx]['center'])\n",
    "        print(Ux)\n",
    "        plt.scatter(Ux[:,0],Ux[:,1],marker='*',color = 'black')\n"
   ]
  },
  {
   "cell_type": "code",
   "execution_count": 107,
   "metadata": {},
   "outputs": [
    {
     "name": "stdout",
     "output_type": "stream",
     "text": [
      "[[-6.25685351 -3.89255542]]\n[[4.73712657 0.9185839 ]]\n[[ 4.26073189 -0.13830467]]\n[[-7.16848633 -7.61904772]]\n[[-2.16091169 -9.40309194]]\n"
     ]
    },
    {
     "data": {
      "image/png": "[encoded data removed]",
      "text/plain": [
       "<Figure size 432x288 with 1 Axes>"
      ]
     },
     "metadata": {},
     "output_type": "display_data"
    }
   ],
   "source": [
    "plot_cluster(clusters)"
   ]
  },
  {
   "cell_type": "code",
   "execution_count": 100,
   "metadata": {},
   "outputs": [],
   "source": []
  },
  {
   "cell_type": "code",
   "execution_count": null,
   "metadata": {},
   "outputs": [],
   "source": []
  }
 ],
 "metadata": {
  "kernelspec": {
   "display_name": "Python 2",
   "language": "python",
   "name": "python2"
  },
  "language_info": {
   "codemirror_mode": {
    "name": "ipython",
    "version": 2
   },
   "file_extension": ".py",
   "mimetype": "text/x-python",
   "name": "python",
   "nbconvert_exporter": "python",
   "pygments_lexer": "ipython2",
   "version": "2.7.6"
  }
 },
 "nbformat": 4,
 "nbformat_minor": 0
}
