{
 "cells": [
  {
   "cell_type": "code",
   "execution_count": 1,
   "metadata": {
    "collapsed": true
   },
   "outputs": [],
   "source": [
    "import pandas as pd\n",
    "import numpy as np\n",
    "from sklearn.preprocessing import LabelEncoder\n",
    "from sklearn.model_selection import train_test_split"
   ]
  },
  {
   "cell_type": "code",
   "execution_count": 2,
   "metadata": {},
   "outputs": [
    {
     "name": "stdout",
     "output_type": "stream",
     "text": [
      "  type cap_shape cap_surface cap_color bruises odor gill_attachment  \\\n0    p         x           s         n       t    p               f   \n1    e         x           s         y       t    a               f   \n2    e         b           s         w       t    l               f   \n3    p         x           y         w       t    p               f   \n4    e         x           s         g       f    n               f   \n\n  gill_spacing gill_size gill_color   ...   stalk_surface_below_ring  \\\n0            c         n          k   ...                          s   \n1            c         b          k   ...                          s   \n2            c         b          n   ...                          s   \n3            c         n          n   ...                          s   \n4            w         b          k   ...                          s   \n\n  stalk_color_above_ring stalk_color_below_ring veil_type veil_color  \\\n0                      w                      w         p          w   \n1                      w                      w         p          w   \n2                      w                      w         p          w   \n3                      w                      w         p          w   \n4                      w                      w         p          w   \n\n  ring_number ring_type spore_print_color population habitat  \n0           o         p                 k          s       u  \n1           o         p                 n          n       g  \n2           o         p                 n          n       m  \n3           o         p                 k          s       u  \n4           o         e                 n          a       g  \n\n[5 rows x 23 columns]\n"
     ]
    }
   ],
   "source": [
    "data = pd.read_csv(r'Machine Learning/Naive_Bayes/mushrooms.csv')\n",
    "print(data.head())"
   ]
  },
  {
   "cell_type": "code",
   "execution_count": 14,
   "metadata": {},
   "outputs": [],
   "source": [
    "le = LabelEncoder()\n",
    "ds = data.apply(le.fit_transform)"
   ]
  },
  {
   "cell_type": "code",
   "execution_count": 15,
   "metadata": {},
   "outputs": [
    {
     "name": "stdout",
     "output_type": "stream",
     "text": [
      "(8124, 22) (8124,)\n"
     ]
    }
   ],
   "source": [
    "Xdata = ds.values[:,1:]\n",
    "Ydata = ds.values[:,0]\n",
    "print(Xdata.shape,Ydata.shape)"
   ]
  },
  {
   "cell_type": "code",
   "execution_count": 16,
   "metadata": {},
   "outputs": [
    {
     "name": "stdout",
     "output_type": "stream",
     "text": [
      "(6499, 22) (6499,)\n(1625, 22) (1625,)\n"
     ]
    }
   ],
   "source": [
    "xtrain,xtest,ytrain,ytest = train_test_split(Xdata,Ydata,test_size=0.2)\n",
    "print(xtrain.shape,ytrain.shape)\n",
    "print(xtest.shape,ytest.shape)"
   ]
  },
  {
   "cell_type": "code",
   "execution_count": 17,
   "metadata": {},
   "outputs": [
    {
     "data": {
      "text/plain": [
       "array([0, 1])"
      ]
     },
     "execution_count": 17,
     "metadata": {},
     "output_type": "execute_result"
    }
   ],
   "source": [
    "np.unique(ytrain)"
   ]
  },
  {
   "cell_type": "code",
   "execution_count": 23,
   "metadata": {},
   "outputs": [
    {
     "data": {
      "text/plain": [
       "array([ True,  True,  True, ...,  True,  True,  True])"
      ]
     },
     "execution_count": 23,
     "metadata": {},
     "output_type": "execute_result"
    }
   ],
   "source": [
    "ytrain==1"
   ]
  },
  {
   "cell_type": "code",
   "execution_count": 24,
   "metadata": {},
   "outputs": [
    {
     "data": {
      "text/plain": [
       "array([False, False, False, ..., False, False, False])"
      ]
     },
     "execution_count": 24,
     "metadata": {},
     "output_type": "execute_result"
    }
   ],
   "source": [
    "ytrain==0"
   ]
  },
  {
   "cell_type": "code",
   "execution_count": 25,
   "metadata": {},
   "outputs": [
    {
     "data": {
      "text/plain": [
       "array([[2, 2, 4, ..., 7, 4, 0],\n       [2, 2, 2, ..., 7, 4, 0],\n       [5, 3, 8, ..., 2, 3, 1],\n       ...,\n       [2, 3, 2, ..., 7, 4, 2],\n       [5, 3, 9, ..., 1, 5, 0],\n       [2, 3, 2, ..., 7, 4, 2]])"
      ]
     },
     "execution_count": 25,
     "metadata": {},
     "output_type": "execute_result"
    }
   ],
   "source": [
    "xtrain[ytrain==1]"
   ]
  },
  {
   "cell_type": "code",
   "execution_count": 27,
   "metadata": {},
   "outputs": [],
   "source": [
    "def prior_prob(ytrain,label):\n",
    "    total_examples = ytrain.shape[0]\n",
    "    class_examples = np.sum(ytrain==label)\n",
    "    return class_examples/float(total_examples)\n",
    "\n",
    "def conditional_prob(xtrain,ytrain,feature_col,feature_value,label):\n",
    "    x_filter = xtrain[ytrain==label]\n",
    "    numerator = np.sum(x_filter[:,feature_col]==feature_value)\n",
    "    denomenator = np.sum(ytrain==label)\n",
    "    return numerator/float(denomenator)"
   ]
  },
  {
   "cell_type": "code",
   "execution_count": 28,
   "metadata": {},
   "outputs": [],
   "source": [
    "def predict(xtrain,ytrain,xtest):\n",
    "    \"\"\"xtest is single testing point, having n features\"\"\"\n",
    "    classes = np.unique(ytrain)\n",
    "    n_features = xtrain.shape[1]\n",
    "    post_prob = []\n",
    "    for label in classes:\n",
    "        likelihood = 1.0\n",
    "        # posterior_prob = likelihood * prior\n",
    "        for f in range(n_features):\n",
    "            cond=conditional_prob(xtrain,ytrain,f,xtest[f],label)\n",
    "            likelihood *= cond\n",
    "        prior = prior_prob(ytrain,label)\n",
    "        post = likelihood*prior\n",
    "        post_prob.append(post)\n",
    "    \n",
    "    pred = np.argmax(post_prob)\n",
    "    return pred\n",
    "\n",
    "            "
   ]
  },
  {
   "cell_type": "code",
   "execution_count": 31,
   "metadata": {},
   "outputs": [
    {
     "data": {
      "text/plain": [
       "True"
      ]
     },
     "execution_count": 31,
     "metadata": {},
     "output_type": "execute_result"
    }
   ],
   "source": [
    "predict(xtrain,ytrain,xtest[2])==ytest[2]"
   ]
  },
  {
   "cell_type": "code",
   "execution_count": 34,
   "metadata": {},
   "outputs": [],
   "source": [
    "def accuracy(xtrain,ytrain,xtest,ytest):\n",
    "    pred=[]\n",
    "    for f in range(xtest.shape[0]):\n",
    "        p = predict(xtrain,ytrain,xtest[f])\n",
    "        pred.append(p)\n",
    "    \n",
    "    pred = np.array(pred)\n",
    "    return np.sum(pred==ytest)/ytest.shape[0]"
   ]
  },
  {
   "cell_type": "code",
   "execution_count": 35,
   "metadata": {},
   "outputs": [
    {
     "data": {
      "text/plain": [
       "0.9981538461538462"
      ]
     },
     "execution_count": 35,
     "metadata": {},
     "output_type": "execute_result"
    }
   ],
   "source": [
    "accuracy(xtrain,ytrain,xtest,ytest)"
   ]
  },
  {
   "cell_type": "code",
   "execution_count": null,
   "metadata": {},
   "outputs": [],
   "source": []
  }
 ],
 "metadata": {
  "kernelspec": {
   "display_name": "Python 2",
   "language": "python",
   "name": "python2"
  },
  "language_info": {
   "codemirror_mode": {
    "name": "ipython",
    "version": 2
   },
   "file_extension": ".py",
   "mimetype": "text/x-python",
   "name": "python",
   "nbconvert_exporter": "python",
   "pygments_lexer": "ipython2",
   "version": "2.7.6"
  }
 },
 "nbformat": 4,
 "nbformat_minor": 0
}
